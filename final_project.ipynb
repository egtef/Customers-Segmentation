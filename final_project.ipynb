{
 "cells": [
  {
   "cell_type": "markdown",
   "id": "d94c5f47",
   "metadata": {},
   "source": [
    "# Project: E-commerce electronic store \n",
    "- Name: Ahmed Atef Attaalla\n",
    "\n",
    "- Student no: 0770103\n",
    "\n",
    "\n",
    "- Dataset name: appliances and electronics online store\n",
    "- Dataset source: Kaggle\n",
    "- Dataset url: https://www.kaggle.com/mkechinov/ecommerce-purchase-history-from-electronics-store\n"
   ]
  },
  {
   "cell_type": "markdown",
   "id": "1824b1cf",
   "metadata": {},
   "source": [
    "#### - Project objectives: \n",
    "\n",
    "•\tAnalyzing the online sales data.\n",
    "\n",
    "•\tIdentify the potential customer group from transactional data to improve the marketing campaign by designing profitable strategies; hence to increase the sales.\n",
    "\n",
    "\n",
    "#### Steps:-\n",
    "\n",
    "1)\tExploratory data analysis (EDA)\n",
    "\n",
    "2)\tCheck, clean and prepare the data for analysis.\n",
    "\n",
    "3)\tPerform RFM analysis.\n",
    "\n",
    "4)\tVisualize the data.\n",
    "\n",
    "5)  Calculate the RFM score.\n",
    "\n",
    "6)  Identify segments and interpret the findings.\n",
    "\n",
    "7)  K-means clustering algorithm based on the RFM values. \n"
   ]
  },
  {
   "cell_type": "code",
   "execution_count": 65,
   "id": "10158a66",
   "metadata": {},
   "outputs": [],
   "source": [
    "# Import the appropriate Libraries\n",
    "import pandas as pd # for dataframes\n",
    "import matplotlib.pyplot as plt # for plotting graphs\n",
    "import seaborn as sns # for plotting graphs\n",
    "import datetime as dt \n",
    "import numpy as np"
   ]
  },
  {
   "cell_type": "code",
   "execution_count": 66,
   "id": "79e65951",
   "metadata": {},
   "outputs": [],
   "source": [
    "# dataset import\n",
    "data=pd.read_csv('kz.csv')"
   ]
  },
  {
   "cell_type": "markdown",
   "id": "ba9ba386",
   "metadata": {},
   "source": [
    "# EDA (Exploratory Data Anyalysis)"
   ]
  },
  {
   "cell_type": "code",
   "execution_count": 67,
   "id": "ca00168e",
   "metadata": {},
   "outputs": [
    {
     "data": {
      "text/html": [
       "<div>\n",
       "<style scoped>\n",
       "    .dataframe tbody tr th:only-of-type {\n",
       "        vertical-align: middle;\n",
       "    }\n",
       "\n",
       "    .dataframe tbody tr th {\n",
       "        vertical-align: top;\n",
       "    }\n",
       "\n",
       "    .dataframe thead th {\n",
       "        text-align: right;\n",
       "    }\n",
       "</style>\n",
       "<table border=\"1\" class=\"dataframe\">\n",
       "  <thead>\n",
       "    <tr style=\"text-align: right;\">\n",
       "      <th></th>\n",
       "      <th>event_time</th>\n",
       "      <th>order_id</th>\n",
       "      <th>product_id</th>\n",
       "      <th>category_id</th>\n",
       "      <th>category_code</th>\n",
       "      <th>brand</th>\n",
       "      <th>price</th>\n",
       "      <th>user_id</th>\n",
       "    </tr>\n",
       "  </thead>\n",
       "  <tbody>\n",
       "    <tr>\n",
       "      <th>0</th>\n",
       "      <td>2020-04-24 11:50:39 UTC</td>\n",
       "      <td>2294359932054536986</td>\n",
       "      <td>1515966223509089906</td>\n",
       "      <td>2.268105e+18</td>\n",
       "      <td>electronics.tablet</td>\n",
       "      <td>samsung</td>\n",
       "      <td>162.01</td>\n",
       "      <td>1.515916e+18</td>\n",
       "    </tr>\n",
       "    <tr>\n",
       "      <th>1</th>\n",
       "      <td>2020-04-24 11:50:39 UTC</td>\n",
       "      <td>2294359932054536986</td>\n",
       "      <td>1515966223509089906</td>\n",
       "      <td>2.268105e+18</td>\n",
       "      <td>electronics.tablet</td>\n",
       "      <td>samsung</td>\n",
       "      <td>162.01</td>\n",
       "      <td>1.515916e+18</td>\n",
       "    </tr>\n",
       "    <tr>\n",
       "      <th>2</th>\n",
       "      <td>2020-04-24 14:37:43 UTC</td>\n",
       "      <td>2294444024058086220</td>\n",
       "      <td>2273948319057183658</td>\n",
       "      <td>2.268105e+18</td>\n",
       "      <td>electronics.audio.headphone</td>\n",
       "      <td>huawei</td>\n",
       "      <td>77.52</td>\n",
       "      <td>1.515916e+18</td>\n",
       "    </tr>\n",
       "    <tr>\n",
       "      <th>3</th>\n",
       "      <td>2020-04-24 14:37:43 UTC</td>\n",
       "      <td>2294444024058086220</td>\n",
       "      <td>2273948319057183658</td>\n",
       "      <td>2.268105e+18</td>\n",
       "      <td>electronics.audio.headphone</td>\n",
       "      <td>huawei</td>\n",
       "      <td>77.52</td>\n",
       "      <td>1.515916e+18</td>\n",
       "    </tr>\n",
       "    <tr>\n",
       "      <th>4</th>\n",
       "      <td>2020-04-24 19:16:21 UTC</td>\n",
       "      <td>2294584263154074236</td>\n",
       "      <td>2273948316817424439</td>\n",
       "      <td>2.268105e+18</td>\n",
       "      <td>NaN</td>\n",
       "      <td>karcher</td>\n",
       "      <td>217.57</td>\n",
       "      <td>1.515916e+18</td>\n",
       "    </tr>\n",
       "    <tr>\n",
       "      <th>...</th>\n",
       "      <td>...</td>\n",
       "      <td>...</td>\n",
       "      <td>...</td>\n",
       "      <td>...</td>\n",
       "      <td>...</td>\n",
       "      <td>...</td>\n",
       "      <td>...</td>\n",
       "      <td>...</td>\n",
       "    </tr>\n",
       "    <tr>\n",
       "      <th>2633516</th>\n",
       "      <td>2020-11-21 10:10:01 UTC</td>\n",
       "      <td>2388440981134693942</td>\n",
       "      <td>1515966223526602848</td>\n",
       "      <td>2.268105e+18</td>\n",
       "      <td>electronics.smartphone</td>\n",
       "      <td>oppo</td>\n",
       "      <td>138.87</td>\n",
       "      <td>1.515916e+18</td>\n",
       "    </tr>\n",
       "    <tr>\n",
       "      <th>2633517</th>\n",
       "      <td>2020-11-21 10:10:13 UTC</td>\n",
       "      <td>2388440981134693943</td>\n",
       "      <td>1515966223509089282</td>\n",
       "      <td>2.268105e+18</td>\n",
       "      <td>electronics.smartphone</td>\n",
       "      <td>apple</td>\n",
       "      <td>418.96</td>\n",
       "      <td>1.515916e+18</td>\n",
       "    </tr>\n",
       "    <tr>\n",
       "      <th>2633518</th>\n",
       "      <td>2020-11-21 10:10:30 UTC</td>\n",
       "      <td>2388440981134693944</td>\n",
       "      <td>1515966223509089917</td>\n",
       "      <td>2.268105e+18</td>\n",
       "      <td>appliances.personal.scales</td>\n",
       "      <td>vitek</td>\n",
       "      <td>12.48</td>\n",
       "      <td>1.515916e+18</td>\n",
       "    </tr>\n",
       "    <tr>\n",
       "      <th>2633519</th>\n",
       "      <td>2020-11-21 10:10:30 UTC</td>\n",
       "      <td>2388440981134693944</td>\n",
       "      <td>2273948184839454837</td>\n",
       "      <td>2.268105e+18</td>\n",
       "      <td>NaN</td>\n",
       "      <td>moulinex</td>\n",
       "      <td>41.64</td>\n",
       "      <td>1.515916e+18</td>\n",
       "    </tr>\n",
       "    <tr>\n",
       "      <th>2633520</th>\n",
       "      <td>2020-11-21 10:10:30 UTC</td>\n",
       "      <td>2388440981134693944</td>\n",
       "      <td>1515966223509127566</td>\n",
       "      <td>2.268105e+18</td>\n",
       "      <td>appliances.kitchen.blender</td>\n",
       "      <td>redmond</td>\n",
       "      <td>53.22</td>\n",
       "      <td>1.515916e+18</td>\n",
       "    </tr>\n",
       "  </tbody>\n",
       "</table>\n",
       "<p>2633521 rows × 8 columns</p>\n",
       "</div>"
      ],
      "text/plain": [
       "                      event_time             order_id           product_id  \\\n",
       "0        2020-04-24 11:50:39 UTC  2294359932054536986  1515966223509089906   \n",
       "1        2020-04-24 11:50:39 UTC  2294359932054536986  1515966223509089906   \n",
       "2        2020-04-24 14:37:43 UTC  2294444024058086220  2273948319057183658   \n",
       "3        2020-04-24 14:37:43 UTC  2294444024058086220  2273948319057183658   \n",
       "4        2020-04-24 19:16:21 UTC  2294584263154074236  2273948316817424439   \n",
       "...                          ...                  ...                  ...   \n",
       "2633516  2020-11-21 10:10:01 UTC  2388440981134693942  1515966223526602848   \n",
       "2633517  2020-11-21 10:10:13 UTC  2388440981134693943  1515966223509089282   \n",
       "2633518  2020-11-21 10:10:30 UTC  2388440981134693944  1515966223509089917   \n",
       "2633519  2020-11-21 10:10:30 UTC  2388440981134693944  2273948184839454837   \n",
       "2633520  2020-11-21 10:10:30 UTC  2388440981134693944  1515966223509127566   \n",
       "\n",
       "          category_id                category_code     brand   price  \\\n",
       "0        2.268105e+18           electronics.tablet   samsung  162.01   \n",
       "1        2.268105e+18           electronics.tablet   samsung  162.01   \n",
       "2        2.268105e+18  electronics.audio.headphone    huawei   77.52   \n",
       "3        2.268105e+18  electronics.audio.headphone    huawei   77.52   \n",
       "4        2.268105e+18                          NaN   karcher  217.57   \n",
       "...               ...                          ...       ...     ...   \n",
       "2633516  2.268105e+18       electronics.smartphone      oppo  138.87   \n",
       "2633517  2.268105e+18       electronics.smartphone     apple  418.96   \n",
       "2633518  2.268105e+18   appliances.personal.scales     vitek   12.48   \n",
       "2633519  2.268105e+18                          NaN  moulinex   41.64   \n",
       "2633520  2.268105e+18   appliances.kitchen.blender   redmond   53.22   \n",
       "\n",
       "              user_id  \n",
       "0        1.515916e+18  \n",
       "1        1.515916e+18  \n",
       "2        1.515916e+18  \n",
       "3        1.515916e+18  \n",
       "4        1.515916e+18  \n",
       "...               ...  \n",
       "2633516  1.515916e+18  \n",
       "2633517  1.515916e+18  \n",
       "2633518  1.515916e+18  \n",
       "2633519  1.515916e+18  \n",
       "2633520  1.515916e+18  \n",
       "\n",
       "[2633521 rows x 8 columns]"
      ]
     },
     "execution_count": 67,
     "metadata": {},
     "output_type": "execute_result"
    }
   ],
   "source": [
    "data"
   ]
  },
  {
   "cell_type": "code",
   "execution_count": 68,
   "id": "44336820",
   "metadata": {},
   "outputs": [
    {
     "name": "stdout",
     "output_type": "stream",
     "text": [
      "<class 'pandas.core.frame.DataFrame'>\n",
      "RangeIndex: 2633521 entries, 0 to 2633520\n",
      "Data columns (total 8 columns):\n",
      " #   Column         Dtype  \n",
      "---  ------         -----  \n",
      " 0   event_time     object \n",
      " 1   order_id       int64  \n",
      " 2   product_id     int64  \n",
      " 3   category_id    float64\n",
      " 4   category_code  object \n",
      " 5   brand          object \n",
      " 6   price          float64\n",
      " 7   user_id        float64\n",
      "dtypes: float64(3), int64(2), object(3)\n",
      "memory usage: 160.7+ MB\n"
     ]
    }
   ],
   "source": [
    "data.info()"
   ]
  },
  {
   "cell_type": "code",
   "execution_count": 5,
   "id": "464e01df",
   "metadata": {},
   "outputs": [
    {
     "name": "stdout",
     "output_type": "stream",
     "text": [
      "Rows     :  2633521\n",
      "Columns  :  8\n",
      "\n",
      "Features : \n",
      " ['event_time', 'order_id', 'product_id', 'category_id', 'category_code', 'brand', 'price', 'user_id']\n",
      "\n",
      "Unique values :  \n",
      " event_time       1316174\n",
      "order_id         1435266\n",
      "product_id         25113\n",
      "category_id          900\n",
      "category_code        510\n",
      "brand              23021\n",
      "price               2802\n",
      "user_id            98262\n",
      "dtype: int64\n"
     ]
    }
   ],
   "source": [
    "# Counting the unique values\n",
    "print (\"Rows     : \" ,data.shape[0])\n",
    "print (\"Columns  : \" ,data.shape[1])\n",
    "print (\"\\nFeatures : \\n\" ,data.columns.tolist())\n",
    "print (\"\\nUnique values :  \\n\",data.nunique())"
   ]
  },
  {
   "cell_type": "code",
   "execution_count": 48,
   "id": "583a4023",
   "metadata": {},
   "outputs": [
    {
     "data": {
      "text/plain": [
       "samsung                358928\n",
       "ava                    118161\n",
       "tefal                   78653\n",
       "apple                   74709\n",
       "huawei                  57438\n",
       "                        ...  \n",
       "1515915625512526035         1\n",
       "1515915625512762385         1\n",
       "1515915625514155394         1\n",
       "1515915625514598709         1\n",
       "1515915625513445930         1\n",
       "Name: brand, Length: 23021, dtype: int64"
      ]
     },
     "execution_count": 48,
     "metadata": {},
     "output_type": "execute_result"
    }
   ],
   "source": [
    "#Top selling Brands\n",
    "data.brand.value_counts()"
   ]
  },
  {
   "cell_type": "markdown",
   "id": "5c1c9112",
   "metadata": {},
   "source": [
    "# Data preprossing"
   ]
  },
  {
   "cell_type": "code",
   "execution_count": 69,
   "id": "04897a79",
   "metadata": {},
   "outputs": [
    {
     "data": {
      "text/plain": [
       "event_time             0\n",
       "order_id               0\n",
       "product_id             0\n",
       "category_id       431954\n",
       "category_code     612202\n",
       "brand             506005\n",
       "price             431954\n",
       "user_id          2069352\n",
       "dtype: int64"
      ]
     },
     "execution_count": 69,
     "metadata": {},
     "output_type": "execute_result"
    }
   ],
   "source": [
    "# exploring null values\n",
    "data.isnull().sum()"
   ]
  },
  {
   "cell_type": "code",
   "execution_count": 70,
   "id": "d454f65b",
   "metadata": {},
   "outputs": [],
   "source": [
    "#execluding null values in the following features (brands, Category_code, Category_ID)\n",
    "data= data[pd.notnull(data['brand'])]\n",
    "data= data[pd.notnull(data['category_code'])]\n",
    "data= data[pd.notnull(data['category_id'])]"
   ]
  },
  {
   "cell_type": "code",
   "execution_count": 71,
   "id": "1cdfbfde",
   "metadata": {},
   "outputs": [],
   "source": [
    "#Take all the rows where customer ID not equal to null\n",
    "data= data[pd.notnull(data['user_id'])]"
   ]
  },
  {
   "cell_type": "code",
   "execution_count": 72,
   "id": "1cc5f350",
   "metadata": {},
   "outputs": [],
   "source": [
    "# converting the user-id from float to intger to be easier for reading\n",
    "data['user_id'] = data['user_id'].apply(np.int64)"
   ]
  },
  {
   "cell_type": "code",
   "execution_count": 73,
   "id": "369af7af",
   "metadata": {},
   "outputs": [
    {
     "data": {
      "text/plain": [
       "event_time       0\n",
       "order_id         0\n",
       "product_id       0\n",
       "category_id      0\n",
       "category_code    0\n",
       "brand            0\n",
       "price            0\n",
       "user_id          0\n",
       "dtype: int64"
      ]
     },
     "execution_count": 73,
     "metadata": {},
     "output_type": "execute_result"
    }
   ],
   "source": [
    "data.isnull().sum()"
   ]
  },
  {
   "cell_type": "code",
   "execution_count": 74,
   "id": "ddd2f042",
   "metadata": {},
   "outputs": [],
   "source": [
    "#datatype casting for event time, converting to datetime64\n",
    "# tz_localize(None) it helps in excluding the timezone when getting the recency.\n",
    "data['event_time'] = pd.to_datetime(data.event_time).dt.tz_localize(None) "
   ]
  },
  {
   "cell_type": "code",
   "execution_count": 75,
   "id": "9e554ab8",
   "metadata": {},
   "outputs": [
    {
     "name": "stdout",
     "output_type": "stream",
     "text": [
      "<class 'pandas.core.frame.DataFrame'>\n",
      "Int64Index: 420718 entries, 0 to 2633520\n",
      "Data columns (total 8 columns):\n",
      " #   Column         Non-Null Count   Dtype         \n",
      "---  ------         --------------   -----         \n",
      " 0   event_time     420718 non-null  datetime64[ns]\n",
      " 1   order_id       420718 non-null  int64         \n",
      " 2   product_id     420718 non-null  int64         \n",
      " 3   category_id    420718 non-null  float64       \n",
      " 4   category_code  420718 non-null  object        \n",
      " 5   brand          420718 non-null  object        \n",
      " 6   price          420718 non-null  float64       \n",
      " 7   user_id        420718 non-null  int64         \n",
      "dtypes: datetime64[ns](1), float64(2), int64(3), object(2)\n",
      "memory usage: 28.9+ MB\n"
     ]
    }
   ],
   "source": [
    "data.info()"
   ]
  },
  {
   "cell_type": "code",
   "execution_count": 76,
   "id": "45bb357c",
   "metadata": {},
   "outputs": [
    {
     "data": {
      "text/html": [
       "<div>\n",
       "<style scoped>\n",
       "    .dataframe tbody tr th:only-of-type {\n",
       "        vertical-align: middle;\n",
       "    }\n",
       "\n",
       "    .dataframe tbody tr th {\n",
       "        vertical-align: top;\n",
       "    }\n",
       "\n",
       "    .dataframe thead th {\n",
       "        text-align: right;\n",
       "    }\n",
       "</style>\n",
       "<table border=\"1\" class=\"dataframe\">\n",
       "  <thead>\n",
       "    <tr style=\"text-align: right;\">\n",
       "      <th></th>\n",
       "      <th>event_time</th>\n",
       "      <th>order_id</th>\n",
       "      <th>product_id</th>\n",
       "      <th>category_id</th>\n",
       "      <th>category_code</th>\n",
       "      <th>brand</th>\n",
       "      <th>price</th>\n",
       "      <th>user_id</th>\n",
       "    </tr>\n",
       "  </thead>\n",
       "  <tbody>\n",
       "    <tr>\n",
       "      <th>0</th>\n",
       "      <td>2020-04-24 11:50:39</td>\n",
       "      <td>2294359932054536986</td>\n",
       "      <td>1515966223509089906</td>\n",
       "      <td>2.268105e+18</td>\n",
       "      <td>electronics.tablet</td>\n",
       "      <td>samsung</td>\n",
       "      <td>162.01</td>\n",
       "      <td>1515915625441993984</td>\n",
       "    </tr>\n",
       "    <tr>\n",
       "      <th>1</th>\n",
       "      <td>2020-04-24 11:50:39</td>\n",
       "      <td>2294359932054536986</td>\n",
       "      <td>1515966223509089906</td>\n",
       "      <td>2.268105e+18</td>\n",
       "      <td>electronics.tablet</td>\n",
       "      <td>samsung</td>\n",
       "      <td>162.01</td>\n",
       "      <td>1515915625441993984</td>\n",
       "    </tr>\n",
       "    <tr>\n",
       "      <th>2</th>\n",
       "      <td>2020-04-24 14:37:43</td>\n",
       "      <td>2294444024058086220</td>\n",
       "      <td>2273948319057183658</td>\n",
       "      <td>2.268105e+18</td>\n",
       "      <td>electronics.audio.headphone</td>\n",
       "      <td>huawei</td>\n",
       "      <td>77.52</td>\n",
       "      <td>1515915625447879424</td>\n",
       "    </tr>\n",
       "    <tr>\n",
       "      <th>3</th>\n",
       "      <td>2020-04-24 14:37:43</td>\n",
       "      <td>2294444024058086220</td>\n",
       "      <td>2273948319057183658</td>\n",
       "      <td>2.268105e+18</td>\n",
       "      <td>electronics.audio.headphone</td>\n",
       "      <td>huawei</td>\n",
       "      <td>77.52</td>\n",
       "      <td>1515915625447879424</td>\n",
       "    </tr>\n",
       "    <tr>\n",
       "      <th>5</th>\n",
       "      <td>2020-04-26 08:45:57</td>\n",
       "      <td>2295716521449619559</td>\n",
       "      <td>1515966223509261697</td>\n",
       "      <td>2.268105e+18</td>\n",
       "      <td>furniture.kitchen.table</td>\n",
       "      <td>maestro</td>\n",
       "      <td>39.33</td>\n",
       "      <td>1515915625450382848</td>\n",
       "    </tr>\n",
       "  </tbody>\n",
       "</table>\n",
       "</div>"
      ],
      "text/plain": [
       "           event_time             order_id           product_id   category_id  \\\n",
       "0 2020-04-24 11:50:39  2294359932054536986  1515966223509089906  2.268105e+18   \n",
       "1 2020-04-24 11:50:39  2294359932054536986  1515966223509089906  2.268105e+18   \n",
       "2 2020-04-24 14:37:43  2294444024058086220  2273948319057183658  2.268105e+18   \n",
       "3 2020-04-24 14:37:43  2294444024058086220  2273948319057183658  2.268105e+18   \n",
       "5 2020-04-26 08:45:57  2295716521449619559  1515966223509261697  2.268105e+18   \n",
       "\n",
       "                 category_code    brand   price              user_id  \n",
       "0           electronics.tablet  samsung  162.01  1515915625441993984  \n",
       "1           electronics.tablet  samsung  162.01  1515915625441993984  \n",
       "2  electronics.audio.headphone   huawei   77.52  1515915625447879424  \n",
       "3  electronics.audio.headphone   huawei   77.52  1515915625447879424  \n",
       "5      furniture.kitchen.table  maestro   39.33  1515915625450382848  "
      ]
     },
     "execution_count": 76,
     "metadata": {},
     "output_type": "execute_result"
    }
   ],
   "source": [
    "data.head(5)"
   ]
  },
  {
   "cell_type": "code",
   "execution_count": 77,
   "id": "2f122794",
   "metadata": {},
   "outputs": [
    {
     "data": {
      "text/html": [
       "<div>\n",
       "<style scoped>\n",
       "    .dataframe tbody tr th:only-of-type {\n",
       "        vertical-align: middle;\n",
       "    }\n",
       "\n",
       "    .dataframe tbody tr th {\n",
       "        vertical-align: top;\n",
       "    }\n",
       "\n",
       "    .dataframe thead th {\n",
       "        text-align: right;\n",
       "    }\n",
       "</style>\n",
       "<table border=\"1\" class=\"dataframe\">\n",
       "  <thead>\n",
       "    <tr style=\"text-align: right;\">\n",
       "      <th></th>\n",
       "      <th>event_time</th>\n",
       "      <th>order_id</th>\n",
       "      <th>product_id</th>\n",
       "      <th>category_id</th>\n",
       "      <th>category_code</th>\n",
       "      <th>brand</th>\n",
       "      <th>price</th>\n",
       "      <th>user_id</th>\n",
       "    </tr>\n",
       "  </thead>\n",
       "  <tbody>\n",
       "    <tr>\n",
       "      <th>2633515</th>\n",
       "      <td>2020-11-21 10:08:54</td>\n",
       "      <td>2388440981134693941</td>\n",
       "      <td>1515966223509088622</td>\n",
       "      <td>2.374499e+18</td>\n",
       "      <td>electronics.video.tv</td>\n",
       "      <td>lg</td>\n",
       "      <td>370.35</td>\n",
       "      <td>1515915625513809920</td>\n",
       "    </tr>\n",
       "    <tr>\n",
       "      <th>2633516</th>\n",
       "      <td>2020-11-21 10:10:01</td>\n",
       "      <td>2388440981134693942</td>\n",
       "      <td>1515966223526602848</td>\n",
       "      <td>2.268105e+18</td>\n",
       "      <td>electronics.smartphone</td>\n",
       "      <td>oppo</td>\n",
       "      <td>138.87</td>\n",
       "      <td>1515915625514888704</td>\n",
       "    </tr>\n",
       "    <tr>\n",
       "      <th>2633517</th>\n",
       "      <td>2020-11-21 10:10:13</td>\n",
       "      <td>2388440981134693943</td>\n",
       "      <td>1515966223509089282</td>\n",
       "      <td>2.268105e+18</td>\n",
       "      <td>electronics.smartphone</td>\n",
       "      <td>apple</td>\n",
       "      <td>418.96</td>\n",
       "      <td>1515915625514891264</td>\n",
       "    </tr>\n",
       "    <tr>\n",
       "      <th>2633518</th>\n",
       "      <td>2020-11-21 10:10:30</td>\n",
       "      <td>2388440981134693944</td>\n",
       "      <td>1515966223509089917</td>\n",
       "      <td>2.268105e+18</td>\n",
       "      <td>appliances.personal.scales</td>\n",
       "      <td>vitek</td>\n",
       "      <td>12.48</td>\n",
       "      <td>1515915625514834176</td>\n",
       "    </tr>\n",
       "    <tr>\n",
       "      <th>2633520</th>\n",
       "      <td>2020-11-21 10:10:30</td>\n",
       "      <td>2388440981134693944</td>\n",
       "      <td>1515966223509127566</td>\n",
       "      <td>2.268105e+18</td>\n",
       "      <td>appliances.kitchen.blender</td>\n",
       "      <td>redmond</td>\n",
       "      <td>53.22</td>\n",
       "      <td>1515915625514834176</td>\n",
       "    </tr>\n",
       "  </tbody>\n",
       "</table>\n",
       "</div>"
      ],
      "text/plain": [
       "                 event_time             order_id           product_id  \\\n",
       "2633515 2020-11-21 10:08:54  2388440981134693941  1515966223509088622   \n",
       "2633516 2020-11-21 10:10:01  2388440981134693942  1515966223526602848   \n",
       "2633517 2020-11-21 10:10:13  2388440981134693943  1515966223509089282   \n",
       "2633518 2020-11-21 10:10:30  2388440981134693944  1515966223509089917   \n",
       "2633520 2020-11-21 10:10:30  2388440981134693944  1515966223509127566   \n",
       "\n",
       "          category_id               category_code    brand   price  \\\n",
       "2633515  2.374499e+18        electronics.video.tv       lg  370.35   \n",
       "2633516  2.268105e+18      electronics.smartphone     oppo  138.87   \n",
       "2633517  2.268105e+18      electronics.smartphone    apple  418.96   \n",
       "2633518  2.268105e+18  appliances.personal.scales    vitek   12.48   \n",
       "2633520  2.268105e+18  appliances.kitchen.blender  redmond   53.22   \n",
       "\n",
       "                     user_id  \n",
       "2633515  1515915625513809920  \n",
       "2633516  1515915625514888704  \n",
       "2633517  1515915625514891264  \n",
       "2633518  1515915625514834176  \n",
       "2633520  1515915625514834176  "
      ]
     },
     "execution_count": 77,
     "metadata": {},
     "output_type": "execute_result"
    }
   ],
   "source": [
    "data.tail(5)"
   ]
  },
  {
   "cell_type": "markdown",
   "id": "d4b99c1a",
   "metadata": {},
   "source": [
    "# Data insights"
   ]
  },
  {
   "cell_type": "code",
   "execution_count": 78,
   "id": "2df8c4c2",
   "metadata": {},
   "outputs": [
    {
     "data": {
      "text/plain": [
       "samsung    47872\n",
       "apple      21792\n",
       "ava        14594\n",
       "lg         10629\n",
       "tefal       9352\n",
       "xiaomi      8455\n",
       "bosch       7082\n",
       "philips     6472\n",
       "huawei      6149\n",
       "asus        6016\n",
       "Name: brand, dtype: int64"
      ]
     },
     "execution_count": 78,
     "metadata": {},
     "output_type": "execute_result"
    }
   ],
   "source": [
    "#brands sharing among users.\n",
    "brands_data=data[['brand','user_id','category_code']].drop_duplicates()\n",
    "brands_data.brand.value_counts()[:10]"
   ]
  },
  {
   "cell_type": "code",
   "execution_count": 79,
   "id": "778b9bcd",
   "metadata": {},
   "outputs": [
    {
     "data": {
      "text/plain": [
       "<AxesSubplot:>"
      ]
     },
     "execution_count": 79,
     "metadata": {},
     "output_type": "execute_result"
    },
    {
     "data": {
      "image/png": "[encoded data removed]",
      "text/plain": [
       "<Figure size 432x288 with 1 Axes>"
      ]
     },
     "metadata": {
      "needs_background": "light"
     },
     "output_type": "display_data"
    }
   ],
   "source": [
    "# Plot the top 10 brands \n",
    "brands_data.brand.value_counts()[:10].plot(kind='bar')"
   ]
  },
  {
   "cell_type": "markdown",
   "id": "01671755",
   "metadata": {},
   "source": [
    "- The best selling brand among our customers is the Samsung brand where 47872 unique customers purchase it, followed by Apple, ava and Lg with 21792,14594,10629 respectively.\n",
    "\n",
    "- Running campaigns using our top selling brands as key products getting more profits, at the same time understanding reasons behind the low selling of the other brands is neccessary to deceide either to drop them out or putting more marketing efforts."
   ]
  },
  {
   "cell_type": "code",
   "execution_count": 80,
   "id": "c5c4cde7",
   "metadata": {},
   "outputs": [
    {
     "data": {
      "text/plain": [
       "electronics.smartphone              53738\n",
       "computers.notebook                  17534\n",
       "electronics.audio.headphone         14717\n",
       "appliances.kitchen.refrigerators    14492\n",
       "electronics.video.tv                11359\n",
       "appliances.environment.vacuum       10164\n",
       "appliances.kitchen.washer            9183\n",
       "appliances.kitchen.kettle            9072\n",
       "computers.peripherals.mouse          7709\n",
       "appliances.kitchen.blender           6317\n",
       "Name: category_code, dtype: int64"
      ]
     },
     "execution_count": 80,
     "metadata": {},
     "output_type": "execute_result"
    }
   ],
   "source": [
    "#Categories sharing among users\n",
    "brands_data.category_code.value_counts()[:10]"
   ]
  },
  {
   "cell_type": "code",
   "execution_count": 81,
   "id": "6b45fa28",
   "metadata": {},
   "outputs": [
    {
     "data": {
      "text/plain": [
       "<AxesSubplot:>"
      ]
     },
     "execution_count": 81,
     "metadata": {},
     "output_type": "execute_result"
    },
    {
     "data": {
      "image/png": "[encoded data removed]",
      "text/plain": [
       "<Figure size 432x288 with 1 Axes>"
      ]
     },
     "metadata": {
      "needs_background": "light"
     },
     "output_type": "display_data"
    }
   ],
   "source": [
    "# Plot the top 10 products category \n",
    "brands_data.category_code.value_counts()[:10].plot(kind='bar')"
   ]
  },
  {
   "cell_type": "markdown",
   "id": "cc0c087d",
   "metadata": {},
   "source": [
    "- Smart phones are way much more selling than anyother item with 53738 number of unique selling compared to Notebook and headphones which represent 17534 and 14717 respectively.\n",
    "\n",
    "- Using cross-selling technique in selling related products to smartphone such as (headphone- mouse) is recommended approach to raise selling of these products.\n",
    "\n",
    "- Appliances kitchen products are durable goods which need more offers and add-on services interms of maintenance, gurantee."
   ]
  },
  {
   "cell_type": "code",
   "execution_count": 82,
   "id": "8bc5a598",
   "metadata": {},
   "outputs": [
    {
     "data": {
      "text/html": [
       "<div>\n",
       "<style scoped>\n",
       "    .dataframe tbody tr th:only-of-type {\n",
       "        vertical-align: middle;\n",
       "    }\n",
       "\n",
       "    .dataframe tbody tr th {\n",
       "        vertical-align: top;\n",
       "    }\n",
       "\n",
       "    .dataframe thead th {\n",
       "        text-align: right;\n",
       "    }\n",
       "</style>\n",
       "<table border=\"1\" class=\"dataframe\">\n",
       "  <thead>\n",
       "    <tr style=\"text-align: right;\">\n",
       "      <th></th>\n",
       "      <th>event_time</th>\n",
       "      <th>order_id</th>\n",
       "      <th>product_id</th>\n",
       "      <th>category_id</th>\n",
       "      <th>category_code</th>\n",
       "      <th>brand</th>\n",
       "      <th>price</th>\n",
       "      <th>user_id</th>\n",
       "    </tr>\n",
       "  </thead>\n",
       "  <tbody>\n",
       "    <tr>\n",
       "      <th>0</th>\n",
       "      <td>2020-04-24 11:50:39</td>\n",
       "      <td>2294359932054536986</td>\n",
       "      <td>1515966223509089906</td>\n",
       "      <td>2.268105e+18</td>\n",
       "      <td>electronics.tablet</td>\n",
       "      <td>samsung</td>\n",
       "      <td>162.01</td>\n",
       "      <td>1515915625441993984</td>\n",
       "    </tr>\n",
       "    <tr>\n",
       "      <th>1</th>\n",
       "      <td>2020-04-24 11:50:39</td>\n",
       "      <td>2294359932054536986</td>\n",
       "      <td>1515966223509089906</td>\n",
       "      <td>2.268105e+18</td>\n",
       "      <td>electronics.tablet</td>\n",
       "      <td>samsung</td>\n",
       "      <td>162.01</td>\n",
       "      <td>1515915625441993984</td>\n",
       "    </tr>\n",
       "    <tr>\n",
       "      <th>2</th>\n",
       "      <td>2020-04-24 14:37:43</td>\n",
       "      <td>2294444024058086220</td>\n",
       "      <td>2273948319057183658</td>\n",
       "      <td>2.268105e+18</td>\n",
       "      <td>electronics.audio.headphone</td>\n",
       "      <td>huawei</td>\n",
       "      <td>77.52</td>\n",
       "      <td>1515915625447879424</td>\n",
       "    </tr>\n",
       "    <tr>\n",
       "      <th>3</th>\n",
       "      <td>2020-04-24 14:37:43</td>\n",
       "      <td>2294444024058086220</td>\n",
       "      <td>2273948319057183658</td>\n",
       "      <td>2.268105e+18</td>\n",
       "      <td>electronics.audio.headphone</td>\n",
       "      <td>huawei</td>\n",
       "      <td>77.52</td>\n",
       "      <td>1515915625447879424</td>\n",
       "    </tr>\n",
       "    <tr>\n",
       "      <th>5</th>\n",
       "      <td>2020-04-26 08:45:57</td>\n",
       "      <td>2295716521449619559</td>\n",
       "      <td>1515966223509261697</td>\n",
       "      <td>2.268105e+18</td>\n",
       "      <td>furniture.kitchen.table</td>\n",
       "      <td>maestro</td>\n",
       "      <td>39.33</td>\n",
       "      <td>1515915625450382848</td>\n",
       "    </tr>\n",
       "    <tr>\n",
       "      <th>...</th>\n",
       "      <td>...</td>\n",
       "      <td>...</td>\n",
       "      <td>...</td>\n",
       "      <td>...</td>\n",
       "      <td>...</td>\n",
       "      <td>...</td>\n",
       "      <td>...</td>\n",
       "      <td>...</td>\n",
       "    </tr>\n",
       "    <tr>\n",
       "      <th>2633515</th>\n",
       "      <td>2020-11-21 10:08:54</td>\n",
       "      <td>2388440981134693941</td>\n",
       "      <td>1515966223509088622</td>\n",
       "      <td>2.374499e+18</td>\n",
       "      <td>electronics.video.tv</td>\n",
       "      <td>lg</td>\n",
       "      <td>370.35</td>\n",
       "      <td>1515915625513809920</td>\n",
       "    </tr>\n",
       "    <tr>\n",
       "      <th>2633516</th>\n",
       "      <td>2020-11-21 10:10:01</td>\n",
       "      <td>2388440981134693942</td>\n",
       "      <td>1515966223526602848</td>\n",
       "      <td>2.268105e+18</td>\n",
       "      <td>electronics.smartphone</td>\n",
       "      <td>oppo</td>\n",
       "      <td>138.87</td>\n",
       "      <td>1515915625514888704</td>\n",
       "    </tr>\n",
       "    <tr>\n",
       "      <th>2633517</th>\n",
       "      <td>2020-11-21 10:10:13</td>\n",
       "      <td>2388440981134693943</td>\n",
       "      <td>1515966223509089282</td>\n",
       "      <td>2.268105e+18</td>\n",
       "      <td>electronics.smartphone</td>\n",
       "      <td>apple</td>\n",
       "      <td>418.96</td>\n",
       "      <td>1515915625514891264</td>\n",
       "    </tr>\n",
       "    <tr>\n",
       "      <th>2633518</th>\n",
       "      <td>2020-11-21 10:10:30</td>\n",
       "      <td>2388440981134693944</td>\n",
       "      <td>1515966223509089917</td>\n",
       "      <td>2.268105e+18</td>\n",
       "      <td>appliances.personal.scales</td>\n",
       "      <td>vitek</td>\n",
       "      <td>12.48</td>\n",
       "      <td>1515915625514834176</td>\n",
       "    </tr>\n",
       "    <tr>\n",
       "      <th>2633520</th>\n",
       "      <td>2020-11-21 10:10:30</td>\n",
       "      <td>2388440981134693944</td>\n",
       "      <td>1515966223509127566</td>\n",
       "      <td>2.268105e+18</td>\n",
       "      <td>appliances.kitchen.blender</td>\n",
       "      <td>redmond</td>\n",
       "      <td>53.22</td>\n",
       "      <td>1515915625514834176</td>\n",
       "    </tr>\n",
       "  </tbody>\n",
       "</table>\n",
       "<p>420718 rows × 8 columns</p>\n",
       "</div>"
      ],
      "text/plain": [
       "                 event_time             order_id           product_id  \\\n",
       "0       2020-04-24 11:50:39  2294359932054536986  1515966223509089906   \n",
       "1       2020-04-24 11:50:39  2294359932054536986  1515966223509089906   \n",
       "2       2020-04-24 14:37:43  2294444024058086220  2273948319057183658   \n",
       "3       2020-04-24 14:37:43  2294444024058086220  2273948319057183658   \n",
       "5       2020-04-26 08:45:57  2295716521449619559  1515966223509261697   \n",
       "...                     ...                  ...                  ...   \n",
       "2633515 2020-11-21 10:08:54  2388440981134693941  1515966223509088622   \n",
       "2633516 2020-11-21 10:10:01  2388440981134693942  1515966223526602848   \n",
       "2633517 2020-11-21 10:10:13  2388440981134693943  1515966223509089282   \n",
       "2633518 2020-11-21 10:10:30  2388440981134693944  1515966223509089917   \n",
       "2633520 2020-11-21 10:10:30  2388440981134693944  1515966223509127566   \n",
       "\n",
       "          category_id                category_code    brand   price  \\\n",
       "0        2.268105e+18           electronics.tablet  samsung  162.01   \n",
       "1        2.268105e+18           electronics.tablet  samsung  162.01   \n",
       "2        2.268105e+18  electronics.audio.headphone   huawei   77.52   \n",
       "3        2.268105e+18  electronics.audio.headphone   huawei   77.52   \n",
       "5        2.268105e+18      furniture.kitchen.table  maestro   39.33   \n",
       "...               ...                          ...      ...     ...   \n",
       "2633515  2.374499e+18         electronics.video.tv       lg  370.35   \n",
       "2633516  2.268105e+18       electronics.smartphone     oppo  138.87   \n",
       "2633517  2.268105e+18       electronics.smartphone    apple  418.96   \n",
       "2633518  2.268105e+18   appliances.personal.scales    vitek   12.48   \n",
       "2633520  2.268105e+18   appliances.kitchen.blender  redmond   53.22   \n",
       "\n",
       "                     user_id  \n",
       "0        1515915625441993984  \n",
       "1        1515915625441993984  \n",
       "2        1515915625447879424  \n",
       "3        1515915625447879424  \n",
       "5        1515915625450382848  \n",
       "...                      ...  \n",
       "2633515  1515915625513809920  \n",
       "2633516  1515915625514888704  \n",
       "2633517  1515915625514891264  \n",
       "2633518  1515915625514834176  \n",
       "2633520  1515915625514834176  \n",
       "\n",
       "[420718 rows x 8 columns]"
      ]
     },
     "execution_count": 82,
     "metadata": {},
     "output_type": "execute_result"
    }
   ],
   "source": [
    "data"
   ]
  },
  {
   "cell_type": "code",
   "execution_count": 83,
   "id": "4be965a2",
   "metadata": {},
   "outputs": [
    {
     "name": "stdout",
     "output_type": "stream",
     "text": [
      "1970-01-01 00:33:40\n",
      "2020-11-21 10:10:30\n"
     ]
    }
   ],
   "source": [
    "# Check Min and Max dates\n",
    "print(data['event_time'].min())\n",
    "print(data['event_time'].max())"
   ]
  },
  {
   "cell_type": "code",
   "execution_count": 84,
   "id": "ce14ce18",
   "metadata": {},
   "outputs": [
    {
     "name": "stdout",
     "output_type": "stream",
     "text": [
      "2020-01-05 04:06:18\n",
      "2020-11-21 10:10:30\n"
     ]
    }
   ],
   "source": [
    "# RFM is more effective when it's measured on 1 year or 2, we here set the last year.\n",
    "filter_data = data[(data['event_time'] > '2019-11-21')]\n",
    "print(filter_data['event_time'].min())\n",
    "print(filter_data['event_time'].max())"
   ]
  },
  {
   "cell_type": "code",
   "execution_count": 85,
   "id": "b93727cf",
   "metadata": {},
   "outputs": [],
   "source": [
    "#Reorder the columns, droping the category_id\n",
    "filter_data=filter_data[['user_id','brand','category_code','price','product_id','order_id','event_time']]"
   ]
  },
  {
   "cell_type": "code",
   "execution_count": 86,
   "id": "c1ad4828",
   "metadata": {},
   "outputs": [
    {
     "data": {
      "text/html": [
       "<div>\n",
       "<style scoped>\n",
       "    .dataframe tbody tr th:only-of-type {\n",
       "        vertical-align: middle;\n",
       "    }\n",
       "\n",
       "    .dataframe tbody tr th {\n",
       "        vertical-align: top;\n",
       "    }\n",
       "\n",
       "    .dataframe thead th {\n",
       "        text-align: right;\n",
       "    }\n",
       "</style>\n",
       "<table border=\"1\" class=\"dataframe\">\n",
       "  <thead>\n",
       "    <tr style=\"text-align: right;\">\n",
       "      <th></th>\n",
       "      <th>user_id</th>\n",
       "      <th>brand</th>\n",
       "      <th>category_code</th>\n",
       "      <th>price</th>\n",
       "      <th>product_id</th>\n",
       "      <th>order_id</th>\n",
       "      <th>event_time</th>\n",
       "    </tr>\n",
       "  </thead>\n",
       "  <tbody>\n",
       "    <tr>\n",
       "      <th>0</th>\n",
       "      <td>1515915625441993984</td>\n",
       "      <td>samsung</td>\n",
       "      <td>electronics.tablet</td>\n",
       "      <td>162.01</td>\n",
       "      <td>1515966223509089906</td>\n",
       "      <td>2294359932054536986</td>\n",
       "      <td>2020-04-24 11:50:39</td>\n",
       "    </tr>\n",
       "    <tr>\n",
       "      <th>1</th>\n",
       "      <td>1515915625441993984</td>\n",
       "      <td>samsung</td>\n",
       "      <td>electronics.tablet</td>\n",
       "      <td>162.01</td>\n",
       "      <td>1515966223509089906</td>\n",
       "      <td>2294359932054536986</td>\n",
       "      <td>2020-04-24 11:50:39</td>\n",
       "    </tr>\n",
       "    <tr>\n",
       "      <th>2</th>\n",
       "      <td>1515915625447879424</td>\n",
       "      <td>huawei</td>\n",
       "      <td>electronics.audio.headphone</td>\n",
       "      <td>77.52</td>\n",
       "      <td>2273948319057183658</td>\n",
       "      <td>2294444024058086220</td>\n",
       "      <td>2020-04-24 14:37:43</td>\n",
       "    </tr>\n",
       "    <tr>\n",
       "      <th>3</th>\n",
       "      <td>1515915625447879424</td>\n",
       "      <td>huawei</td>\n",
       "      <td>electronics.audio.headphone</td>\n",
       "      <td>77.52</td>\n",
       "      <td>2273948319057183658</td>\n",
       "      <td>2294444024058086220</td>\n",
       "      <td>2020-04-24 14:37:43</td>\n",
       "    </tr>\n",
       "    <tr>\n",
       "      <th>5</th>\n",
       "      <td>1515915625450382848</td>\n",
       "      <td>maestro</td>\n",
       "      <td>furniture.kitchen.table</td>\n",
       "      <td>39.33</td>\n",
       "      <td>1515966223509261697</td>\n",
       "      <td>2295716521449619559</td>\n",
       "      <td>2020-04-26 08:45:57</td>\n",
       "    </tr>\n",
       "    <tr>\n",
       "      <th>...</th>\n",
       "      <td>...</td>\n",
       "      <td>...</td>\n",
       "      <td>...</td>\n",
       "      <td>...</td>\n",
       "      <td>...</td>\n",
       "      <td>...</td>\n",
       "      <td>...</td>\n",
       "    </tr>\n",
       "    <tr>\n",
       "      <th>2633515</th>\n",
       "      <td>1515915625513809920</td>\n",
       "      <td>lg</td>\n",
       "      <td>electronics.video.tv</td>\n",
       "      <td>370.35</td>\n",
       "      <td>1515966223509088622</td>\n",
       "      <td>2388440981134693941</td>\n",
       "      <td>2020-11-21 10:08:54</td>\n",
       "    </tr>\n",
       "    <tr>\n",
       "      <th>2633516</th>\n",
       "      <td>1515915625514888704</td>\n",
       "      <td>oppo</td>\n",
       "      <td>electronics.smartphone</td>\n",
       "      <td>138.87</td>\n",
       "      <td>1515966223526602848</td>\n",
       "      <td>2388440981134693942</td>\n",
       "      <td>2020-11-21 10:10:01</td>\n",
       "    </tr>\n",
       "    <tr>\n",
       "      <th>2633517</th>\n",
       "      <td>1515915625514891264</td>\n",
       "      <td>apple</td>\n",
       "      <td>electronics.smartphone</td>\n",
       "      <td>418.96</td>\n",
       "      <td>1515966223509089282</td>\n",
       "      <td>2388440981134693943</td>\n",
       "      <td>2020-11-21 10:10:13</td>\n",
       "    </tr>\n",
       "    <tr>\n",
       "      <th>2633518</th>\n",
       "      <td>1515915625514834176</td>\n",
       "      <td>vitek</td>\n",
       "      <td>appliances.personal.scales</td>\n",
       "      <td>12.48</td>\n",
       "      <td>1515966223509089917</td>\n",
       "      <td>2388440981134693944</td>\n",
       "      <td>2020-11-21 10:10:30</td>\n",
       "    </tr>\n",
       "    <tr>\n",
       "      <th>2633520</th>\n",
       "      <td>1515915625514834176</td>\n",
       "      <td>redmond</td>\n",
       "      <td>appliances.kitchen.blender</td>\n",
       "      <td>53.22</td>\n",
       "      <td>1515966223509127566</td>\n",
       "      <td>2388440981134693944</td>\n",
       "      <td>2020-11-21 10:10:30</td>\n",
       "    </tr>\n",
       "  </tbody>\n",
       "</table>\n",
       "<p>419890 rows × 7 columns</p>\n",
       "</div>"
      ],
      "text/plain": [
       "                     user_id    brand                category_code   price  \\\n",
       "0        1515915625441993984  samsung           electronics.tablet  162.01   \n",
       "1        1515915625441993984  samsung           electronics.tablet  162.01   \n",
       "2        1515915625447879424   huawei  electronics.audio.headphone   77.52   \n",
       "3        1515915625447879424   huawei  electronics.audio.headphone   77.52   \n",
       "5        1515915625450382848  maestro      furniture.kitchen.table   39.33   \n",
       "...                      ...      ...                          ...     ...   \n",
       "2633515  1515915625513809920       lg         electronics.video.tv  370.35   \n",
       "2633516  1515915625514888704     oppo       electronics.smartphone  138.87   \n",
       "2633517  1515915625514891264    apple       electronics.smartphone  418.96   \n",
       "2633518  1515915625514834176    vitek   appliances.personal.scales   12.48   \n",
       "2633520  1515915625514834176  redmond   appliances.kitchen.blender   53.22   \n",
       "\n",
       "                  product_id             order_id          event_time  \n",
       "0        1515966223509089906  2294359932054536986 2020-04-24 11:50:39  \n",
       "1        1515966223509089906  2294359932054536986 2020-04-24 11:50:39  \n",
       "2        2273948319057183658  2294444024058086220 2020-04-24 14:37:43  \n",
       "3        2273948319057183658  2294444024058086220 2020-04-24 14:37:43  \n",
       "5        1515966223509261697  2295716521449619559 2020-04-26 08:45:57  \n",
       "...                      ...                  ...                 ...  \n",
       "2633515  1515966223509088622  2388440981134693941 2020-11-21 10:08:54  \n",
       "2633516  1515966223526602848  2388440981134693942 2020-11-21 10:10:01  \n",
       "2633517  1515966223509089282  2388440981134693943 2020-11-21 10:10:13  \n",
       "2633518  1515966223509089917  2388440981134693944 2020-11-21 10:10:30  \n",
       "2633520  1515966223509127566  2388440981134693944 2020-11-21 10:10:30  \n",
       "\n",
       "[419890 rows x 7 columns]"
      ]
     },
     "execution_count": 86,
     "metadata": {},
     "output_type": "execute_result"
    }
   ],
   "source": [
    "filter_data"
   ]
  },
  {
   "cell_type": "code",
   "execution_count": 87,
   "id": "25d3f2ac",
   "metadata": {},
   "outputs": [
    {
     "data": {
      "text/plain": [
       "count    419890.000000\n",
       "mean        254.281619\n",
       "std         321.167613\n",
       "min           0.000000\n",
       "25%          39.330000\n",
       "50%         138.870000\n",
       "75%         347.200000\n",
       "max       11574.050000\n",
       "Name: price, dtype: float64"
      ]
     },
     "execution_count": 87,
     "metadata": {},
     "output_type": "execute_result"
    }
   ],
   "source": [
    "filter_data.price.describe()"
   ]
  },
  {
   "cell_type": "code",
   "execution_count": 88,
   "id": "dea24852",
   "metadata": {},
   "outputs": [
    {
     "data": {
      "text/plain": [
       "count    419886.000000\n",
       "mean        254.284041\n",
       "std         321.168184\n",
       "min           0.020000\n",
       "25%          39.330000\n",
       "50%         138.870000\n",
       "75%         347.200000\n",
       "max       11574.050000\n",
       "Name: price, dtype: float64"
      ]
     },
     "execution_count": 88,
     "metadata": {},
     "output_type": "execute_result"
    }
   ],
   "source": [
    "filter_data = filter_data[(filter_data['price'] > 0)]\n",
    "filter_data.price.describe()"
   ]
  },
  {
   "cell_type": "code",
   "execution_count": 89,
   "id": "93a0c4d1",
   "metadata": {},
   "outputs": [
    {
     "name": "stdout",
     "output_type": "stream",
     "text": [
      "2020-01-05 04:06:18\n",
      "2020-11-21 10:10:30\n"
     ]
    }
   ],
   "source": [
    "#New time frame of the data\n",
    "print(filter_data['event_time'].min())\n",
    "print(filter_data['event_time'].max())"
   ]
  },
  {
   "cell_type": "markdown",
   "id": "b9692a1e",
   "metadata": {},
   "source": [
    "# Perform RFM Analysis"
   ]
  },
  {
   "cell_type": "code",
   "execution_count": 90,
   "id": "e43c983e",
   "metadata": {},
   "outputs": [
    {
     "name": "stdout",
     "output_type": "stream",
     "text": [
      "<class 'pandas.core.frame.DataFrame'>\n",
      "Int64Index: 419886 entries, 0 to 2633520\n",
      "Data columns (total 7 columns):\n",
      " #   Column         Non-Null Count   Dtype         \n",
      "---  ------         --------------   -----         \n",
      " 0   user_id        419886 non-null  int64         \n",
      " 1   brand          419886 non-null  object        \n",
      " 2   category_code  419886 non-null  object        \n",
      " 3   price          419886 non-null  float64       \n",
      " 4   product_id     419886 non-null  int64         \n",
      " 5   order_id       419886 non-null  int64         \n",
      " 6   event_time     419886 non-null  datetime64[ns]\n",
      "dtypes: datetime64[ns](1), float64(1), int64(3), object(2)\n",
      "memory usage: 25.6+ MB\n"
     ]
    }
   ],
   "source": [
    "filter_data.info()"
   ]
  },
  {
   "cell_type": "code",
   "execution_count": 91,
   "id": "217c47ae",
   "metadata": {},
   "outputs": [],
   "source": [
    "# Store a date as a reference point for recency calculations which will be set one month after the max-time of our dataset.\n",
    "PRESENT = dt.datetime(2020, 12, 21)"
   ]
  },
  {
   "cell_type": "code",
   "execution_count": 92,
   "id": "152cde10",
   "metadata": {},
   "outputs": [
    {
     "data": {
      "text/plain": [
       "0   2020-04-24 11:50:39\n",
       "1   2020-04-24 11:50:39\n",
       "2   2020-04-24 14:37:43\n",
       "3   2020-04-24 14:37:43\n",
       "5   2020-04-26 08:45:57\n",
       "Name: event_time, dtype: datetime64[ns]"
      ]
     },
     "execution_count": 92,
     "metadata": {},
     "output_type": "execute_result"
    }
   ],
   "source": [
    "filter_data['event_time'].head()"
   ]
  },
  {
   "cell_type": "code",
   "execution_count": 93,
   "id": "fdfa9900",
   "metadata": {},
   "outputs": [
    {
     "data": {
      "text/plain": [
       "2388440981134650624    16\n",
       "2367189642958078714    14\n",
       "2353235234377433386    14\n",
       "2388440981134664238    14\n",
       "2388440981134671539    14\n",
       "Name: order_id, dtype: int64"
      ]
     },
     "execution_count": 93,
     "metadata": {},
     "output_type": "execute_result"
    }
   ],
   "source": [
    "filter_data['order_id'].value_counts().head()\n",
    "# number of items purchased per each order"
   ]
  },
  {
   "cell_type": "code",
   "execution_count": 94,
   "id": "97ae1328",
   "metadata": {},
   "outputs": [
    {
     "data": {
      "text/html": [
       "<div>\n",
       "<style scoped>\n",
       "    .dataframe tbody tr th:only-of-type {\n",
       "        vertical-align: middle;\n",
       "    }\n",
       "\n",
       "    .dataframe tbody tr th {\n",
       "        vertical-align: top;\n",
       "    }\n",
       "\n",
       "    .dataframe thead th {\n",
       "        text-align: right;\n",
       "    }\n",
       "</style>\n",
       "<table border=\"1\" class=\"dataframe\">\n",
       "  <thead>\n",
       "    <tr style=\"text-align: right;\">\n",
       "      <th></th>\n",
       "      <th>order_id</th>\n",
       "      <th>event_time</th>\n",
       "      <th>user_id</th>\n",
       "      <th>price</th>\n",
       "    </tr>\n",
       "  </thead>\n",
       "  <tbody>\n",
       "    <tr>\n",
       "      <th>0</th>\n",
       "      <td>2294359932054536986</td>\n",
       "      <td>2020-04-24 11:50:39</td>\n",
       "      <td>1515915625441993984</td>\n",
       "      <td>324.02</td>\n",
       "    </tr>\n",
       "    <tr>\n",
       "      <th>1</th>\n",
       "      <td>2294444024058086220</td>\n",
       "      <td>2020-04-24 14:37:43</td>\n",
       "      <td>1515915625447879424</td>\n",
       "      <td>155.04</td>\n",
       "    </tr>\n",
       "    <tr>\n",
       "      <th>2</th>\n",
       "      <td>2295716521449619559</td>\n",
       "      <td>2020-04-26 08:45:57</td>\n",
       "      <td>1515915625450382848</td>\n",
       "      <td>39.33</td>\n",
       "    </tr>\n",
       "    <tr>\n",
       "      <th>3</th>\n",
       "      <td>2295740594749702229</td>\n",
       "      <td>2020-04-26 09:33:47</td>\n",
       "      <td>1515915625448766464</td>\n",
       "      <td>5548.04</td>\n",
       "    </tr>\n",
       "    <tr>\n",
       "      <th>4</th>\n",
       "      <td>2295902490203259134</td>\n",
       "      <td>2020-04-26 14:55:26</td>\n",
       "      <td>1515915625450561280</td>\n",
       "      <td>462.94</td>\n",
       "    </tr>\n",
       "  </tbody>\n",
       "</table>\n",
       "</div>"
      ],
      "text/plain": [
       "              order_id          event_time              user_id    price\n",
       "0  2294359932054536986 2020-04-24 11:50:39  1515915625441993984   324.02\n",
       "1  2294444024058086220 2020-04-24 14:37:43  1515915625447879424   155.04\n",
       "2  2295716521449619559 2020-04-26 08:45:57  1515915625450382848    39.33\n",
       "3  2295740594749702229 2020-04-26 09:33:47  1515915625448766464  5548.04\n",
       "4  2295902490203259134 2020-04-26 14:55:26  1515915625450561280   462.94"
      ]
     },
     "execution_count": 94,
     "metadata": {},
     "output_type": "execute_result"
    }
   ],
   "source": [
    "#aggregate the total price\n",
    "orders = filter_data.groupby(['order_id', 'event_time', 'user_id']).agg({'price': lambda x: x.sum()}).reset_index()\n",
    "orders.head()"
   ]
  },
  {
   "cell_type": "code",
   "execution_count": 95,
   "id": "d581649c",
   "metadata": {},
   "outputs": [],
   "source": [
    "# grouping by each user, calculating the recency in days, number of orders and the total price he pay. \n",
    "rfm= filter_data.groupby('user_id').agg({'event_time': lambda date: (PRESENT - date.max()).days,\n",
    "                                        'order_id': lambda num: len(num),\n",
    "                                        'price': lambda price: price.sum()})"
   ]
  },
  {
   "cell_type": "code",
   "execution_count": 96,
   "id": "b303fc5f",
   "metadata": {},
   "outputs": [
    {
     "data": {
      "text/html": [
       "<div>\n",
       "<style scoped>\n",
       "    .dataframe tbody tr th:only-of-type {\n",
       "        vertical-align: middle;\n",
       "    }\n",
       "\n",
       "    .dataframe tbody tr th {\n",
       "        vertical-align: top;\n",
       "    }\n",
       "\n",
       "    .dataframe thead th {\n",
       "        text-align: right;\n",
       "    }\n",
       "</style>\n",
       "<table border=\"1\" class=\"dataframe\">\n",
       "  <thead>\n",
       "    <tr style=\"text-align: right;\">\n",
       "      <th></th>\n",
       "      <th>event_time</th>\n",
       "      <th>order_id</th>\n",
       "      <th>price</th>\n",
       "    </tr>\n",
       "    <tr>\n",
       "      <th>user_id</th>\n",
       "      <th></th>\n",
       "      <th></th>\n",
       "      <th></th>\n",
       "    </tr>\n",
       "  </thead>\n",
       "  <tbody>\n",
       "    <tr>\n",
       "      <th>1515915625439952128</th>\n",
       "      <td>164</td>\n",
       "      <td>1</td>\n",
       "      <td>416.64</td>\n",
       "    </tr>\n",
       "    <tr>\n",
       "      <th>1515915625440038400</th>\n",
       "      <td>53</td>\n",
       "      <td>2</td>\n",
       "      <td>56.43</td>\n",
       "    </tr>\n",
       "    <tr>\n",
       "      <th>1515915625440051456</th>\n",
       "      <td>34</td>\n",
       "      <td>12</td>\n",
       "      <td>5984.92</td>\n",
       "    </tr>\n",
       "    <tr>\n",
       "      <th>1515915625440099840</th>\n",
       "      <td>75</td>\n",
       "      <td>7</td>\n",
       "      <td>3785.72</td>\n",
       "    </tr>\n",
       "    <tr>\n",
       "      <th>1515915625440121600</th>\n",
       "      <td>159</td>\n",
       "      <td>2</td>\n",
       "      <td>182.83</td>\n",
       "    </tr>\n",
       "    <tr>\n",
       "      <th>...</th>\n",
       "      <td>...</td>\n",
       "      <td>...</td>\n",
       "      <td>...</td>\n",
       "    </tr>\n",
       "    <tr>\n",
       "      <th>1515915625514887424</th>\n",
       "      <td>29</td>\n",
       "      <td>1</td>\n",
       "      <td>208.31</td>\n",
       "    </tr>\n",
       "    <tr>\n",
       "      <th>1515915625514887936</th>\n",
       "      <td>29</td>\n",
       "      <td>1</td>\n",
       "      <td>3472.20</td>\n",
       "    </tr>\n",
       "    <tr>\n",
       "      <th>1515915625514888704</th>\n",
       "      <td>29</td>\n",
       "      <td>2</td>\n",
       "      <td>277.74</td>\n",
       "    </tr>\n",
       "    <tr>\n",
       "      <th>1515915625514891008</th>\n",
       "      <td>29</td>\n",
       "      <td>1</td>\n",
       "      <td>925.67</td>\n",
       "    </tr>\n",
       "    <tr>\n",
       "      <th>1515915625514891264</th>\n",
       "      <td>29</td>\n",
       "      <td>1</td>\n",
       "      <td>418.96</td>\n",
       "    </tr>\n",
       "  </tbody>\n",
       "</table>\n",
       "<p>90780 rows × 3 columns</p>\n",
       "</div>"
      ],
      "text/plain": [
       "                     event_time  order_id    price\n",
       "user_id                                           \n",
       "1515915625439952128         164         1   416.64\n",
       "1515915625440038400          53         2    56.43\n",
       "1515915625440051456          34        12  5984.92\n",
       "1515915625440099840          75         7  3785.72\n",
       "1515915625440121600         159         2   182.83\n",
       "...                         ...       ...      ...\n",
       "1515915625514887424          29         1   208.31\n",
       "1515915625514887936          29         1  3472.20\n",
       "1515915625514888704          29         2   277.74\n",
       "1515915625514891008          29         1   925.67\n",
       "1515915625514891264          29         1   418.96\n",
       "\n",
       "[90780 rows x 3 columns]"
      ]
     },
     "execution_count": 96,
     "metadata": {},
     "output_type": "execute_result"
    }
   ],
   "source": [
    "rfm"
   ]
  },
  {
   "cell_type": "code",
   "execution_count": 97,
   "id": "3270d2c9",
   "metadata": {},
   "outputs": [],
   "source": [
    "# Rename the columns \n",
    "rfm.columns=['recency','frequency','monetary']"
   ]
  },
  {
   "cell_type": "code",
   "execution_count": 98,
   "id": "aafb8298",
   "metadata": {},
   "outputs": [],
   "source": [
    "rfm['recency'] = rfm['recency'].astype(int)"
   ]
  },
  {
   "cell_type": "code",
   "execution_count": 100,
   "id": "3508d9d5",
   "metadata": {},
   "outputs": [],
   "source": [
    "rfm['monetary'] = rfm['monetary'].astype(int)"
   ]
  },
  {
   "cell_type": "code",
   "execution_count": 101,
   "id": "c3744a61",
   "metadata": {},
   "outputs": [
    {
     "data": {
      "text/html": [
       "<div>\n",
       "<style scoped>\n",
       "    .dataframe tbody tr th:only-of-type {\n",
       "        vertical-align: middle;\n",
       "    }\n",
       "\n",
       "    .dataframe tbody tr th {\n",
       "        vertical-align: top;\n",
       "    }\n",
       "\n",
       "    .dataframe thead th {\n",
       "        text-align: right;\n",
       "    }\n",
       "</style>\n",
       "<table border=\"1\" class=\"dataframe\">\n",
       "  <thead>\n",
       "    <tr style=\"text-align: right;\">\n",
       "      <th></th>\n",
       "      <th>recency</th>\n",
       "      <th>frequency</th>\n",
       "      <th>monetary</th>\n",
       "    </tr>\n",
       "    <tr>\n",
       "      <th>user_id</th>\n",
       "      <th></th>\n",
       "      <th></th>\n",
       "      <th></th>\n",
       "    </tr>\n",
       "  </thead>\n",
       "  <tbody>\n",
       "    <tr>\n",
       "      <th>1515915625439952128</th>\n",
       "      <td>164</td>\n",
       "      <td>1</td>\n",
       "      <td>416</td>\n",
       "    </tr>\n",
       "    <tr>\n",
       "      <th>1515915625440038400</th>\n",
       "      <td>53</td>\n",
       "      <td>2</td>\n",
       "      <td>56</td>\n",
       "    </tr>\n",
       "    <tr>\n",
       "      <th>1515915625440051456</th>\n",
       "      <td>34</td>\n",
       "      <td>12</td>\n",
       "      <td>5984</td>\n",
       "    </tr>\n",
       "    <tr>\n",
       "      <th>1515915625440099840</th>\n",
       "      <td>75</td>\n",
       "      <td>7</td>\n",
       "      <td>3785</td>\n",
       "    </tr>\n",
       "    <tr>\n",
       "      <th>1515915625440121600</th>\n",
       "      <td>159</td>\n",
       "      <td>2</td>\n",
       "      <td>182</td>\n",
       "    </tr>\n",
       "  </tbody>\n",
       "</table>\n",
       "</div>"
      ],
      "text/plain": [
       "                     recency  frequency  monetary\n",
       "user_id                                          \n",
       "1515915625439952128      164          1       416\n",
       "1515915625440038400       53          2        56\n",
       "1515915625440051456       34         12      5984\n",
       "1515915625440099840       75          7      3785\n",
       "1515915625440121600      159          2       182"
      ]
     },
     "execution_count": 101,
     "metadata": {},
     "output_type": "execute_result"
    }
   ],
   "source": [
    "rfm.head()"
   ]
  },
  {
   "cell_type": "code",
   "execution_count": 102,
   "id": "cb86eead",
   "metadata": {},
   "outputs": [
    {
     "data": {
      "text/plain": [
       "array([[<AxesSubplot:title={'center':'recency'}>]], dtype=object)"
      ]
     },
     "execution_count": 102,
     "metadata": {},
     "output_type": "execute_result"
    },
    {
     "data": {
      "image/png": "[encoded data removed]",
      "text/plain": [
       "<Figure size 432x288 with 1 Axes>"
      ]
     },
     "metadata": {
      "needs_background": "light"
     },
     "output_type": "display_data"
    }
   ],
   "source": [
    "# Histogram for Recency Data\n",
    "rfm.hist(column='recency', bins=25)"
   ]
  },
  {
   "cell_type": "markdown",
   "id": "55a5300c",
   "metadata": {},
   "source": [
    "- The histogram represents the distribution of the variance between the present date and the last purchase date of the customers which is giving the number of days since the last purchase is done by a customer. we have nearly 6000 of our cutsomers who have purchased in the last 25 days followed by nearly 3200 purchases in between 25-50 days, however big number of our clients havn't purchased in between 100 up to 150 days which is long time and need quick action."
   ]
  },
  {
   "cell_type": "code",
   "execution_count": 50,
   "id": "e168b763",
   "metadata": {},
   "outputs": [
    {
     "data": {
      "text/plain": [
       "array([[<AxesSubplot:title={'center':'frequency'}>]], dtype=object)"
      ]
     },
     "execution_count": 50,
     "metadata": {},
     "output_type": "execute_result"
    },
    {
     "data": {
      "image/png": "[encoded data removed]",
      "text/plain": [
       "<Figure size 432x288 with 1 Axes>"
      ]
     },
     "metadata": {
      "needs_background": "light"
     },
     "output_type": "display_data"
    }
   ],
   "source": [
    "# Histogram for Frequency Data\n",
    "\n",
    "rfm.hist(column='frequency', bins=10)"
   ]
  },
  {
   "cell_type": "markdown",
   "id": "726460ee",
   "metadata": {},
   "source": [
    "- The frequency is how often our customer makes a purchase. Total number of purchases more than 80000 times in the first 110 days which gives indication of our performance over that period of time."
   ]
  },
  {
   "cell_type": "code",
   "execution_count": 51,
   "id": "8c513821",
   "metadata": {},
   "outputs": [
    {
     "data": {
      "text/plain": [
       "array([[<AxesSubplot:title={'center':'monetary'}>]], dtype=object)"
      ]
     },
     "execution_count": 51,
     "metadata": {},
     "output_type": "execute_result"
    },
    {
     "data": {
      "image/png": "[encoded data removed]",
      "text/plain": [
       "<Figure size 432x288 with 1 Axes>"
      ]
     },
     "metadata": {
      "needs_background": "light"
     },
     "output_type": "display_data"
    }
   ],
   "source": [
    "# Histogram for Monetary Data\n",
    "rfm.hist(column='monetary', bins=10)"
   ]
  },
  {
   "cell_type": "markdown",
   "id": "b4b8d188",
   "metadata": {},
   "source": [
    "- The graph distribution shows that the amount of cash spent between 0 and 35000 is occured around 80000 times"
   ]
  },
  {
   "cell_type": "code",
   "execution_count": 103,
   "id": "55d3f761",
   "metadata": {},
   "outputs": [
    {
     "name": "stdout",
     "output_type": "stream",
     "text": [
      "[[0.64160541 0.19915623 0.21676262]\n",
      " [1.4007364  0.14422133 0.31948785]\n",
      " [1.75032644 0.40512757 1.37205434]\n",
      " ...\n",
      " [1.84232382 0.14422133 0.25642597]\n",
      " [1.84232382 0.19915623 0.07152055]\n",
      " [1.84232382 0.19915623 0.21619192]]\n"
     ]
    }
   ],
   "source": [
    "# Calculate Z scores to normalize the data\n",
    "from scipy import stats\n",
    "import numpy as np\n",
    "z = np.abs(stats.zscore(rfm))\n",
    "print(z)"
   ]
  },
  {
   "cell_type": "code",
   "execution_count": 104,
   "id": "65cfb511",
   "metadata": {},
   "outputs": [],
   "source": [
    "# Save the cleaned file for further analysis\n",
    "rfm.to_csv('rfm_f_project.csv')"
   ]
  },
  {
   "cell_type": "code",
   "execution_count": 105,
   "id": "e8ab8229",
   "metadata": {},
   "outputs": [
    {
     "data": {
      "text/plain": [
       "{'recency': {0.2: 80.0, 0.4: 119.0, 0.6: 139.0, 0.8: 167.0},\n",
       " 'frequency': {0.2: 1.0, 0.4: 1.0, 0.6: 2.0, 0.8: 4.0},\n",
       " 'monetary': {0.2: 124.0, 0.4: 313.0, 0.6: 648.0, 0.8: 1343.199999999997}}"
      ]
     },
     "execution_count": 105,
     "metadata": {},
     "output_type": "execute_result"
    }
   ],
   "source": [
    "# Use quintiles to make 5 equal parts based on the available values. Each quintiles contains 20% of the population. \n",
    "quintiles = rfm[['recency', 'frequency', 'monetary']].quantile([.2, .4, .6, .8]).to_dict()\n",
    "quintiles"
   ]
  },
  {
   "cell_type": "code",
   "execution_count": 106,
   "id": "c045f2ca",
   "metadata": {},
   "outputs": [],
   "source": [
    "def r_score(x):\n",
    "    if x <= quintiles['recency'][.2]:\n",
    "        return 5\n",
    "    elif x <= quintiles['recency'][.4]:\n",
    "        return 4\n",
    "    elif x <= quintiles['recency'][.6]:\n",
    "        return 3\n",
    "    elif x <= quintiles['recency'][.8]:\n",
    "        return 2\n",
    "    else:\n",
    "        return 1\n",
    "    \n",
    "def fm_score(x, c):\n",
    "    if x <= quintiles[c][.2]:\n",
    "        return 1\n",
    "    elif x <= quintiles[c][.4]:\n",
    "        return 2\n",
    "    elif x <= quintiles[c][.6]:\n",
    "        return 3\n",
    "    elif x <= quintiles[c][.8]:\n",
    "        return 4\n",
    "    else:\n",
    "        return 5  "
   ]
  },
  {
   "cell_type": "code",
   "execution_count": 107,
   "id": "dcf218ff",
   "metadata": {},
   "outputs": [],
   "source": [
    "# Calculate RFM score for each customer\n",
    "\n",
    "rfm['R'] = rfm['recency'].apply(lambda x: r_score(x))\n",
    "rfm['F'] = rfm['frequency'].apply(lambda x: fm_score(x, 'frequency'))\n",
    "rfm['M'] = rfm['monetary'].apply(lambda x: fm_score(x, 'monetary'))"
   ]
  },
  {
   "cell_type": "code",
   "execution_count": 108,
   "id": "40b69953",
   "metadata": {},
   "outputs": [
    {
     "data": {
      "text/html": [
       "<div>\n",
       "<style scoped>\n",
       "    .dataframe tbody tr th:only-of-type {\n",
       "        vertical-align: middle;\n",
       "    }\n",
       "\n",
       "    .dataframe tbody tr th {\n",
       "        vertical-align: top;\n",
       "    }\n",
       "\n",
       "    .dataframe thead th {\n",
       "        text-align: right;\n",
       "    }\n",
       "</style>\n",
       "<table border=\"1\" class=\"dataframe\">\n",
       "  <thead>\n",
       "    <tr style=\"text-align: right;\">\n",
       "      <th></th>\n",
       "      <th>recency</th>\n",
       "      <th>frequency</th>\n",
       "      <th>monetary</th>\n",
       "      <th>R</th>\n",
       "      <th>F</th>\n",
       "      <th>M</th>\n",
       "      <th>RFM Score</th>\n",
       "    </tr>\n",
       "    <tr>\n",
       "      <th>user_id</th>\n",
       "      <th></th>\n",
       "      <th></th>\n",
       "      <th></th>\n",
       "      <th></th>\n",
       "      <th></th>\n",
       "      <th></th>\n",
       "      <th></th>\n",
       "    </tr>\n",
       "  </thead>\n",
       "  <tbody>\n",
       "    <tr>\n",
       "      <th>1515915625439952128</th>\n",
       "      <td>164</td>\n",
       "      <td>1</td>\n",
       "      <td>416</td>\n",
       "      <td>2</td>\n",
       "      <td>1</td>\n",
       "      <td>3</td>\n",
       "      <td>213</td>\n",
       "    </tr>\n",
       "    <tr>\n",
       "      <th>1515915625440038400</th>\n",
       "      <td>53</td>\n",
       "      <td>2</td>\n",
       "      <td>56</td>\n",
       "      <td>5</td>\n",
       "      <td>3</td>\n",
       "      <td>1</td>\n",
       "      <td>531</td>\n",
       "    </tr>\n",
       "    <tr>\n",
       "      <th>1515915625440051456</th>\n",
       "      <td>34</td>\n",
       "      <td>12</td>\n",
       "      <td>5984</td>\n",
       "      <td>5</td>\n",
       "      <td>5</td>\n",
       "      <td>5</td>\n",
       "      <td>555</td>\n",
       "    </tr>\n",
       "    <tr>\n",
       "      <th>1515915625440099840</th>\n",
       "      <td>75</td>\n",
       "      <td>7</td>\n",
       "      <td>3785</td>\n",
       "      <td>5</td>\n",
       "      <td>5</td>\n",
       "      <td>5</td>\n",
       "      <td>555</td>\n",
       "    </tr>\n",
       "    <tr>\n",
       "      <th>1515915625440121600</th>\n",
       "      <td>159</td>\n",
       "      <td>2</td>\n",
       "      <td>182</td>\n",
       "      <td>2</td>\n",
       "      <td>3</td>\n",
       "      <td>2</td>\n",
       "      <td>232</td>\n",
       "    </tr>\n",
       "  </tbody>\n",
       "</table>\n",
       "</div>"
      ],
      "text/plain": [
       "                     recency  frequency  monetary  R  F  M RFM Score\n",
       "user_id                                                             \n",
       "1515915625439952128      164          1       416  2  1  3       213\n",
       "1515915625440038400       53          2        56  5  3  1       531\n",
       "1515915625440051456       34         12      5984  5  5  5       555\n",
       "1515915625440099840       75          7      3785  5  5  5       555\n",
       "1515915625440121600      159          2       182  2  3  2       232"
      ]
     },
     "execution_count": 108,
     "metadata": {},
     "output_type": "execute_result"
    }
   ],
   "source": [
    "# Combine the scores\n",
    "rfm['RFM Score'] = rfm['R'].map(str) + rfm['F'].map(str) + rfm['M'].map(str)\n",
    "rfm.head()"
   ]
  },
  {
   "cell_type": "code",
   "execution_count": 109,
   "id": "41752be1",
   "metadata": {},
   "outputs": [
    {
     "data": {
      "text/html": [
       "<div>\n",
       "<style scoped>\n",
       "    .dataframe tbody tr th:only-of-type {\n",
       "        vertical-align: middle;\n",
       "    }\n",
       "\n",
       "    .dataframe tbody tr th {\n",
       "        vertical-align: top;\n",
       "    }\n",
       "\n",
       "    .dataframe thead th {\n",
       "        text-align: right;\n",
       "    }\n",
       "</style>\n",
       "<table border=\"1\" class=\"dataframe\">\n",
       "  <thead>\n",
       "    <tr style=\"text-align: right;\">\n",
       "      <th></th>\n",
       "      <th>recency</th>\n",
       "      <th>frequency</th>\n",
       "      <th>monetary</th>\n",
       "      <th>R</th>\n",
       "      <th>F</th>\n",
       "      <th>M</th>\n",
       "      <th>RFM Score</th>\n",
       "      <th>Segment</th>\n",
       "    </tr>\n",
       "    <tr>\n",
       "      <th>user_id</th>\n",
       "      <th></th>\n",
       "      <th></th>\n",
       "      <th></th>\n",
       "      <th></th>\n",
       "      <th></th>\n",
       "      <th></th>\n",
       "      <th></th>\n",
       "      <th></th>\n",
       "    </tr>\n",
       "  </thead>\n",
       "  <tbody>\n",
       "    <tr>\n",
       "      <th>1515915625439952128</th>\n",
       "      <td>164</td>\n",
       "      <td>1</td>\n",
       "      <td>416</td>\n",
       "      <td>2</td>\n",
       "      <td>1</td>\n",
       "      <td>3</td>\n",
       "      <td>213</td>\n",
       "      <td>High risk</td>\n",
       "    </tr>\n",
       "    <tr>\n",
       "      <th>1515915625440038400</th>\n",
       "      <td>53</td>\n",
       "      <td>2</td>\n",
       "      <td>56</td>\n",
       "      <td>5</td>\n",
       "      <td>3</td>\n",
       "      <td>1</td>\n",
       "      <td>531</td>\n",
       "      <td>champions</td>\n",
       "    </tr>\n",
       "    <tr>\n",
       "      <th>1515915625440051456</th>\n",
       "      <td>34</td>\n",
       "      <td>12</td>\n",
       "      <td>5984</td>\n",
       "      <td>5</td>\n",
       "      <td>5</td>\n",
       "      <td>5</td>\n",
       "      <td>555</td>\n",
       "      <td>champions</td>\n",
       "    </tr>\n",
       "    <tr>\n",
       "      <th>1515915625440099840</th>\n",
       "      <td>75</td>\n",
       "      <td>7</td>\n",
       "      <td>3785</td>\n",
       "      <td>5</td>\n",
       "      <td>5</td>\n",
       "      <td>5</td>\n",
       "      <td>555</td>\n",
       "      <td>champions</td>\n",
       "    </tr>\n",
       "    <tr>\n",
       "      <th>1515915625440121600</th>\n",
       "      <td>159</td>\n",
       "      <td>2</td>\n",
       "      <td>182</td>\n",
       "      <td>2</td>\n",
       "      <td>3</td>\n",
       "      <td>2</td>\n",
       "      <td>232</td>\n",
       "      <td>High risk</td>\n",
       "    </tr>\n",
       "  </tbody>\n",
       "</table>\n",
       "</div>"
      ],
      "text/plain": [
       "                     recency  frequency  monetary  R  F  M RFM Score  \\\n",
       "user_id                                                                \n",
       "1515915625439952128      164          1       416  2  1  3       213   \n",
       "1515915625440038400       53          2        56  5  3  1       531   \n",
       "1515915625440051456       34         12      5984  5  5  5       555   \n",
       "1515915625440099840       75          7      3785  5  5  5       555   \n",
       "1515915625440121600      159          2       182  2  3  2       232   \n",
       "\n",
       "                       Segment  \n",
       "user_id                         \n",
       "1515915625439952128  High risk  \n",
       "1515915625440038400  champions  \n",
       "1515915625440051456  champions  \n",
       "1515915625440099840  champions  \n",
       "1515915625440121600  High risk  "
      ]
     },
     "execution_count": 109,
     "metadata": {},
     "output_type": "execute_result"
    }
   ],
   "source": [
    "# Create the customer segments. \n",
    "# Create 6 segments based on R and F scores\n",
    "\n",
    "segments = {\n",
    "    '[1-2][1-4]': 'High risk',\n",
    "    '[1-2]5': 'Risk',\n",
    "    '3[1-3]': 'needs attention',\n",
    "    '[3-4][4-5]': 'loyal customers',\n",
    "    '[4-5]1': 'new customers',\n",
    "    '[4-5][2-5]': 'champions'\n",
    "    \n",
    "}\n",
    "\n",
    "rfm['Segment'] = rfm['R'].map(str) + rfm['F'].map(str)\n",
    "rfm['Segment'] = rfm['Segment'].replace(segments, regex=True)\n",
    "rfm.head()"
   ]
  },
  {
   "cell_type": "code",
   "execution_count": 110,
   "id": "00e96382",
   "metadata": {},
   "outputs": [
    {
     "data": {
      "text/plain": [
       "Risk                2484\n",
       "new customers       9707\n",
       "needs attention    11126\n",
       "loyal customers    15898\n",
       "champions          17927\n",
       "High risk          33638\n",
       "Name: Segment, dtype: int64"
      ]
     },
     "execution_count": 110,
     "metadata": {},
     "output_type": "execute_result"
    }
   ],
   "source": [
    "# count the number of customers in each segment\n",
    "segments_counts = rfm['Segment'].value_counts().sort_values(ascending=True)\n",
    "segments_counts"
   ]
  },
  {
   "cell_type": "code",
   "execution_count": 111,
   "id": "81361d7a",
   "metadata": {},
   "outputs": [
    {
     "data": {
      "image/png": "[encoded data removed]",
      "text/plain": [
       "<Figure size 432x288 with 1 Axes>"
      ]
     },
     "metadata": {
      "needs_background": "light"
     },
     "output_type": "display_data"
    }
   ],
   "source": [
    "# Distribution of Segments\n",
    "fig, ax = plt.subplots()\n",
    "\n",
    "bars = ax.barh(range(len(segments_counts)),\n",
    "              segments_counts,\n",
    "              color='gray')\n",
    "ax.set_frame_on(False)\n",
    "ax.tick_params(left=False,\n",
    "               bottom=False,\n",
    "               labelbottom=False)\n",
    "ax.set_yticks(range(len(segments_counts)))\n",
    "ax.set_yticklabels(segments_counts.index)\n",
    "\n",
    "for i, bar in enumerate(bars):\n",
    "        value = bar.get_width()\n",
    "        if segments_counts.index[i] in ['champions', 'loyal customers']:\n",
    "            bar.set_color('green')\n",
    "        ax.text(value,\n",
    "                bar.get_y() + bar.get_height()/2,\n",
    "                '{:,} ({:}%)'.format(int(value),\n",
    "                                   int(value*100/segments_counts.sum())),\n",
    "                va='center',\n",
    "                ha='left'\n",
    "               )\n",
    "\n",
    "plt.show()"
   ]
  },
  {
   "cell_type": "markdown",
   "id": "bbfe0ccf",
   "metadata": {},
   "source": [
    "We can intrepret our finidnings based on the RFM anlaysis as the following:- \n",
    "\n",
    "1) \"High risk\", \"Risk\" categories are representing 33638, 2484 about 37% and 2% respectively. customers haven't purchased since long time as well as their purchasing frequncy weren't high.\n",
    "\n",
    "* Required action: this segment needs the highest attention and quick actions in order to understand why this category is having this poor perfomance like:-\n",
    "\n",
    "- Special customer care.\n",
    "- Developing tactical marketing startegy include but not limited to tailored email marketing campaigns, push notifications and motivational ads targeting those segments thru various platforms.\n",
    "\n",
    "2) \"Needs attention\" segment is 11,126 and represent 12%.\n",
    "\n",
    "* Required action:Tailored marketing startegy with conversion objective is important, targeting them with continuos offers, executing retargeting campaigns to turn them to loyal customers. \n",
    "\n",
    "\n",
    "3) \"New Customers\" segment are 9707 about 10% which is good percentage.\n",
    "\n",
    "* Required action: Special attention to this segment as the price of getting new customers is high, we need to retain them and keep engageing, providing excellence in service in the first period is a must.\n",
    "\n",
    "4) \"Champions\", \"Loyal Customers\" segments are 17927, 15898 shaping 19% and 17% respecitvely, mainly they who make money to the company as the price of retaining them is still lower than getting new customers.\n",
    "\n",
    "* Required action: Providing attractive loyality program, special offers, weekely promotions and excellence in service are tactics can be including in the market startegy for those segements. \n"
   ]
  },
  {
   "cell_type": "markdown",
   "id": "729e3ca0",
   "metadata": {},
   "source": [
    "# Clustering Analysis"
   ]
  },
  {
   "cell_type": "code",
   "execution_count": 113,
   "id": "d6735cf2",
   "metadata": {},
   "outputs": [],
   "source": [
    "#Load the saved rfm data\n",
    "rfm = pd.read_csv('rfm_f_project.csv', index_col ='user_id')"
   ]
  },
  {
   "cell_type": "code",
   "execution_count": 114,
   "id": "fe55c2ad",
   "metadata": {},
   "outputs": [
    {
     "data": {
      "text/html": [
       "<div>\n",
       "<style scoped>\n",
       "    .dataframe tbody tr th:only-of-type {\n",
       "        vertical-align: middle;\n",
       "    }\n",
       "\n",
       "    .dataframe tbody tr th {\n",
       "        vertical-align: top;\n",
       "    }\n",
       "\n",
       "    .dataframe thead th {\n",
       "        text-align: right;\n",
       "    }\n",
       "</style>\n",
       "<table border=\"1\" class=\"dataframe\">\n",
       "  <thead>\n",
       "    <tr style=\"text-align: right;\">\n",
       "      <th></th>\n",
       "      <th>recency</th>\n",
       "      <th>frequency</th>\n",
       "      <th>monetary</th>\n",
       "    </tr>\n",
       "    <tr>\n",
       "      <th>user_id</th>\n",
       "      <th></th>\n",
       "      <th></th>\n",
       "      <th></th>\n",
       "    </tr>\n",
       "  </thead>\n",
       "  <tbody>\n",
       "    <tr>\n",
       "      <th>1515915625439952128</th>\n",
       "      <td>164</td>\n",
       "      <td>1</td>\n",
       "      <td>416</td>\n",
       "    </tr>\n",
       "    <tr>\n",
       "      <th>1515915625440038400</th>\n",
       "      <td>53</td>\n",
       "      <td>2</td>\n",
       "      <td>56</td>\n",
       "    </tr>\n",
       "    <tr>\n",
       "      <th>1515915625440051456</th>\n",
       "      <td>34</td>\n",
       "      <td>12</td>\n",
       "      <td>5984</td>\n",
       "    </tr>\n",
       "    <tr>\n",
       "      <th>1515915625440099840</th>\n",
       "      <td>75</td>\n",
       "      <td>7</td>\n",
       "      <td>3785</td>\n",
       "    </tr>\n",
       "    <tr>\n",
       "      <th>1515915625440121600</th>\n",
       "      <td>159</td>\n",
       "      <td>2</td>\n",
       "      <td>182</td>\n",
       "    </tr>\n",
       "  </tbody>\n",
       "</table>\n",
       "</div>"
      ],
      "text/plain": [
       "                     recency  frequency  monetary\n",
       "user_id                                          \n",
       "1515915625439952128      164          1       416\n",
       "1515915625440038400       53          2        56\n",
       "1515915625440051456       34         12      5984\n",
       "1515915625440099840       75          7      3785\n",
       "1515915625440121600      159          2       182"
      ]
     },
     "execution_count": 114,
     "metadata": {},
     "output_type": "execute_result"
    }
   ],
   "source": [
    "rfm.head()"
   ]
  },
  {
   "cell_type": "code",
   "execution_count": 115,
   "id": "e1c9f43c",
   "metadata": {},
   "outputs": [
    {
     "data": {
      "text/plain": [
       "<AxesSubplot:>"
      ]
     },
     "execution_count": 115,
     "metadata": {},
     "output_type": "execute_result"
    },
    {
     "data": {
      "image/png": "[encoded data removed]",
      "text/plain": [
       "<Figure size 432x288 with 1 Axes>"
      ]
     },
     "metadata": {
      "needs_background": "light"
     },
     "output_type": "display_data"
    }
   ],
   "source": [
    "# Create box plots to check for outliers\n",
    "rfm.boxplot()"
   ]
  },
  {
   "cell_type": "code",
   "execution_count": 116,
   "id": "28a1b92a",
   "metadata": {},
   "outputs": [
    {
     "name": "stdout",
     "output_type": "stream",
     "text": [
      "[[0.64160541 0.19915623 0.21676262]\n",
      " [1.4007364  0.14422133 0.31948785]\n",
      " [1.75032644 0.40512757 1.37205434]\n",
      " ...\n",
      " [1.84232382 0.14422133 0.25642597]\n",
      " [1.84232382 0.19915623 0.07152055]\n",
      " [1.84232382 0.19915623 0.21619192]]\n"
     ]
    }
   ],
   "source": [
    "# Calculate Z scores to normalize the data\n",
    "from scipy import stats\n",
    "z = np.abs(stats.zscore(rfm))\n",
    "print(z)"
   ]
  },
  {
   "cell_type": "code",
   "execution_count": 117,
   "id": "2ccd15cc",
   "metadata": {},
   "outputs": [],
   "source": [
    "#Removing the ouliers in our RFM dataset\n",
    "rfm= rfm[(z < 3).all(axis=1)]"
   ]
  },
  {
   "cell_type": "code",
   "execution_count": 118,
   "id": "04b3f907",
   "metadata": {},
   "outputs": [
    {
     "data": {
      "text/plain": [
       "(89315, 3)"
      ]
     },
     "execution_count": 118,
     "metadata": {},
     "output_type": "execute_result"
    }
   ],
   "source": [
    "rfm.shape"
   ]
  },
  {
   "cell_type": "markdown",
   "id": "e6e94b06",
   "metadata": {},
   "source": [
    "- We have removed around 1465 data points which count as outliers"
   ]
  },
  {
   "cell_type": "code",
   "execution_count": 119,
   "id": "80e25032",
   "metadata": {},
   "outputs": [
    {
     "data": {
      "text/plain": [
       "<AxesSubplot:>"
      ]
     },
     "execution_count": 119,
     "metadata": {},
     "output_type": "execute_result"
    },
    {
     "data": {
      "image/png": "[encoded data removed]",
      "text/plain": [
       "<Figure size 432x288 with 1 Axes>"
      ]
     },
     "metadata": {
      "needs_background": "light"
     },
     "output_type": "display_data"
    }
   ],
   "source": [
    "# Box plots cleaned  to check for outliers\n",
    "rfm.boxplot()"
   ]
  },
  {
   "cell_type": "markdown",
   "id": "b8a355cd",
   "metadata": {},
   "source": [
    "- After get ride of outliers, We can see that the minimum and maximum value are within 2000, while the upper extreme are only up to 12000."
   ]
  },
  {
   "cell_type": "markdown",
   "id": "9012dcc4",
   "metadata": {},
   "source": [
    "# Perform cluster analysis using K-means clustering"
   ]
  },
  {
   "cell_type": "markdown",
   "id": "b8689d19",
   "metadata": {},
   "source": [
    "Here, we use unsupervised algorithms to make inferences on our dataset, using only input vectors without referring to known, or labelled, outcomes. We try to understand the structure of our data in clusters."
   ]
  },
  {
   "cell_type": "code",
   "execution_count": 121,
   "id": "047ef1ff",
   "metadata": {},
   "outputs": [],
   "source": [
    "X = rfm"
   ]
  },
  {
   "cell_type": "code",
   "execution_count": 122,
   "id": "cfc3a717",
   "metadata": {},
   "outputs": [
    {
     "data": {
      "image/png": "[encoded data removed]",
      "text/plain": [
       "<Figure size 432x288 with 1 Axes>"
      ]
     },
     "metadata": {
      "needs_background": "light"
     },
     "output_type": "display_data"
    }
   ],
   "source": [
    "# Choose number of Clusters using the elbow method\n",
    "# Within cluster sum of squares (wcss)\n",
    "from sklearn.cluster import KMeans\n",
    "# start with 10 number of clusters\n",
    "wcss = []\n",
    "for i in range(1,10):\n",
    "    kmeans = KMeans(n_clusters =i, init = 'k-means++', max_iter =300, n_init =10, random_state =0)\n",
    "    kmeans.fit(X)\n",
    "    wcss.append(kmeans.inertia_)\n",
    "plt.plot(range(1,10), wcss)\n",
    "plt.title('The Elbow Method')\n",
    "plt.xlabel('Number of Clusters')\n",
    "plt.ylabel('WCSS')\n",
    "plt.show()"
   ]
  },
  {
   "cell_type": "markdown",
   "id": "690dd2a1",
   "metadata": {},
   "source": [
    "* Getting the best cluster numbers using the elbow method, here we gonna use 2 as a number of clusters."
   ]
  },
  {
   "cell_type": "code",
   "execution_count": 123,
   "id": "b2f4745a",
   "metadata": {},
   "outputs": [],
   "source": [
    "# Fitting K Means to the Datatset using k = 2\n",
    "# fit and predict the data \n",
    "kmeans = KMeans(n_clusters = 2)\n",
    "y_kmeans = kmeans.fit_predict(X)"
   ]
  },
  {
   "cell_type": "code",
   "execution_count": 124,
   "id": "bc37e08a",
   "metadata": {},
   "outputs": [
    {
     "data": {
      "text/plain": [
       "array([0, 0, 1, ..., 0, 0, 0])"
      ]
     },
     "execution_count": 124,
     "metadata": {},
     "output_type": "execute_result"
    }
   ],
   "source": [
    "y_kmeans"
   ]
  },
  {
   "cell_type": "code",
   "execution_count": 125,
   "id": "d61b2969",
   "metadata": {},
   "outputs": [],
   "source": [
    "# Adding cluster ID to the dataframe & setting which customer is in which cluster\n",
    "rfm['Cluster_ID'] = y_kmeans"
   ]
  },
  {
   "cell_type": "code",
   "execution_count": 126,
   "id": "78850a19",
   "metadata": {},
   "outputs": [
    {
     "data": {
      "text/html": [
       "<div>\n",
       "<style scoped>\n",
       "    .dataframe tbody tr th:only-of-type {\n",
       "        vertical-align: middle;\n",
       "    }\n",
       "\n",
       "    .dataframe tbody tr th {\n",
       "        vertical-align: top;\n",
       "    }\n",
       "\n",
       "    .dataframe thead th {\n",
       "        text-align: right;\n",
       "    }\n",
       "</style>\n",
       "<table border=\"1\" class=\"dataframe\">\n",
       "  <thead>\n",
       "    <tr style=\"text-align: right;\">\n",
       "      <th></th>\n",
       "      <th>recency</th>\n",
       "      <th>frequency</th>\n",
       "      <th>monetary</th>\n",
       "      <th>Cluster_ID</th>\n",
       "    </tr>\n",
       "    <tr>\n",
       "      <th>user_id</th>\n",
       "      <th></th>\n",
       "      <th></th>\n",
       "      <th></th>\n",
       "      <th></th>\n",
       "    </tr>\n",
       "  </thead>\n",
       "  <tbody>\n",
       "    <tr>\n",
       "      <th>1515915625439952128</th>\n",
       "      <td>164</td>\n",
       "      <td>1</td>\n",
       "      <td>416</td>\n",
       "      <td>0</td>\n",
       "    </tr>\n",
       "    <tr>\n",
       "      <th>1515915625440038400</th>\n",
       "      <td>53</td>\n",
       "      <td>2</td>\n",
       "      <td>56</td>\n",
       "      <td>0</td>\n",
       "    </tr>\n",
       "    <tr>\n",
       "      <th>1515915625440051456</th>\n",
       "      <td>34</td>\n",
       "      <td>12</td>\n",
       "      <td>5984</td>\n",
       "      <td>1</td>\n",
       "    </tr>\n",
       "    <tr>\n",
       "      <th>1515915625440099840</th>\n",
       "      <td>75</td>\n",
       "      <td>7</td>\n",
       "      <td>3785</td>\n",
       "      <td>1</td>\n",
       "    </tr>\n",
       "    <tr>\n",
       "      <th>1515915625440121600</th>\n",
       "      <td>159</td>\n",
       "      <td>2</td>\n",
       "      <td>182</td>\n",
       "      <td>0</td>\n",
       "    </tr>\n",
       "  </tbody>\n",
       "</table>\n",
       "</div>"
      ],
      "text/plain": [
       "                     recency  frequency  monetary  Cluster_ID\n",
       "user_id                                                      \n",
       "1515915625439952128      164          1       416           0\n",
       "1515915625440038400       53          2        56           0\n",
       "1515915625440051456       34         12      5984           1\n",
       "1515915625440099840       75          7      3785           1\n",
       "1515915625440121600      159          2       182           0"
      ]
     },
     "execution_count": 126,
     "metadata": {},
     "output_type": "execute_result"
    }
   ],
   "source": [
    "rfm.head()"
   ]
  },
  {
   "cell_type": "markdown",
   "id": "603149d3",
   "metadata": {},
   "source": [
    "- The Clustering alogrithim group the customers among 2 clusters (0,1)"
   ]
  },
  {
   "cell_type": "code",
   "execution_count": 136,
   "id": "8d48cb06",
   "metadata": {},
   "outputs": [
    {
     "data": {
      "image/png": "[encoded data removed]",
      "text/plain": [
       "<Figure size 424.625x360 with 1 Axes>"
      ]
     },
     "metadata": {},
     "output_type": "display_data"
    },
    {
     "data": {
      "image/png": "[encoded data removed]",
      "text/plain": [
       "<Figure size 424.625x360 with 1 Axes>"
      ]
     },
     "metadata": {},
     "output_type": "display_data"
    },
    {
     "data": {
      "image/png": "[encoded data removed]",
      "text/plain": [
       "<Figure size 424.625x360 with 1 Axes>"
      ]
     },
     "metadata": {},
     "output_type": "display_data"
    }
   ],
   "source": [
    "# We here viualize the clusters interms of the RFM\n",
    "# Create a plot for frequency vs monetary \n",
    "facet = sns.lmplot(data=X, x='frequency', y='monetary', hue='Cluster_ID', \n",
    "                   fit_reg=False, legend=True, legend_out=True)\n",
    "# Create a plot for recency vs monetary\n",
    "facet2 = sns.lmplot(data=X, x='recency', y='monetary', hue='Cluster_ID', \n",
    "                   fit_reg=False, legend=True, legend_out=True)\n",
    "# Create a plot for recency vs frequency\n",
    "facet2 = sns.lmplot(data=X, x='recency', y='frequency', hue='Cluster_ID', \n",
    "                   fit_reg=False, legend=True, legend_out=True)"
   ]
  },
  {
   "cell_type": "markdown",
   "id": "dff63190",
   "metadata": {},
   "source": [
    "1) Frequency vs monetary :  \n",
    "\n",
    "- Cluster 1 is the lowest in terms of frequency (0-20) with few data points are increasignly scattered and Monetary range around (0-2100).\n",
    "- Cluster 0 comes the highest with frequency distributed along x-axis with higt denisty between (0-30) and Monetary range between (2100-12000).\n",
    "\n",
    "\n",
    "2) Recency vs monetary :\n",
    "- Cluster 1 recency is horizontally distributed along x-axis recency.\n",
    "- Cluster 0 is the better cluster with a least overall recency and the higest monetary.\n",
    "\n",
    "3) Frequency vs Recency:\n",
    "- Cluster 1 is distributed horizntally along x-axis and up to nearly 15 times freqency, while cluster 0 is scattered vertically along the frequncy with better recency than cluster 1."
   ]
  },
  {
   "cell_type": "markdown",
   "id": "8152d04f",
   "metadata": {},
   "source": [
    "# Evaluate clustering using silhouette score"
   ]
  },
  {
   "cell_type": "code",
   "execution_count": 129,
   "id": "a744b93e",
   "metadata": {},
   "outputs": [
    {
     "name": "stdout",
     "output_type": "stream",
     "text": [
      "Collecting yellowbrickNote: you may need to restart the kernel to use updated packages.\n",
      "\n",
      "  Downloading yellowbrick-1.3.post1-py3-none-any.whl (271 kB)\n",
      "Requirement already satisfied: scipy>=1.0.0 in c:\\users\\ahmed\\anaconda3\\lib\\site-packages (from yellowbrick) (1.6.2)\n",
      "Requirement already satisfied: numpy<1.20,>=1.16.0 in c:\\users\\ahmed\\anaconda3\\lib\\site-packages (from yellowbrick) (1.19.5)\n",
      "Requirement already satisfied: scikit-learn>=0.20 in c:\\users\\ahmed\\anaconda3\\lib\\site-packages (from yellowbrick) (0.24.1)\n",
      "Requirement already satisfied: matplotlib!=3.0.0,>=2.0.2 in c:\\users\\ahmed\\anaconda3\\lib\\site-packages (from yellowbrick) (3.3.4)\n",
      "Requirement already satisfied: cycler>=0.10.0 in c:\\users\\ahmed\\anaconda3\\lib\\site-packages (from yellowbrick) (0.10.0)\n",
      "Requirement already satisfied: six in c:\\users\\ahmed\\anaconda3\\lib\\site-packages (from cycler>=0.10.0->yellowbrick) (1.15.0)\n",
      "Requirement already satisfied: python-dateutil>=2.1 in c:\\users\\ahmed\\anaconda3\\lib\\site-packages (from matplotlib!=3.0.0,>=2.0.2->yellowbrick) (2.8.1)\n",
      "Requirement already satisfied: pyparsing!=2.0.4,!=2.1.2,!=2.1.6,>=2.0.3 in c:\\users\\ahmed\\anaconda3\\lib\\site-packages (from matplotlib!=3.0.0,>=2.0.2->yellowbrick) (2.4.7)\n",
      "Requirement already satisfied: pillow>=6.2.0 in c:\\users\\ahmed\\anaconda3\\lib\\site-packages (from matplotlib!=3.0.0,>=2.0.2->yellowbrick) (8.2.0)\n",
      "Requirement already satisfied: kiwisolver>=1.0.1 in c:\\users\\ahmed\\anaconda3\\lib\\site-packages (from matplotlib!=3.0.0,>=2.0.2->yellowbrick) (1.3.1)\n",
      "Requirement already satisfied: joblib>=0.11 in c:\\users\\ahmed\\anaconda3\\lib\\site-packages (from scikit-learn>=0.20->yellowbrick) (1.0.1)\n",
      "Requirement already satisfied: threadpoolctl>=2.0.0 in c:\\users\\ahmed\\anaconda3\\lib\\site-packages (from scikit-learn>=0.20->yellowbrick) (2.1.0)\n",
      "Installing collected packages: yellowbrick\n",
      "Successfully installed yellowbrick-1.3.post1\n"
     ]
    }
   ],
   "source": [
    "pip install yellowbrick"
   ]
  },
  {
   "cell_type": "code",
   "execution_count": 130,
   "id": "d089f8ae",
   "metadata": {},
   "outputs": [
    {
     "data": {
      "image/png": "[encoded data removed]",
      "text/plain": [
       "<Figure size 576x396 with 2 Axes>"
      ]
     },
     "metadata": {},
     "output_type": "display_data"
    },
    {
     "data": {
      "text/plain": [
       "<AxesSubplot:title={'center':'Silhouette Score Elbow for KMeans Clustering'}, xlabel='k', ylabel='silhouette score'>"
      ]
     },
     "execution_count": 130,
     "metadata": {},
     "output_type": "execute_result"
    }
   ],
   "source": [
    "# Silhouette Score for K means\n",
    "# Import ElbowVisualizer\n",
    "\n",
    "from yellowbrick.cluster import KElbowVisualizer\n",
    "model = KMeans()\n",
    "# k is range of number of clusters.\n",
    "visualizer = KElbowVisualizer(model, k=(2,5),metric='silhouette', timings= True)\n",
    "visualizer.fit(X)        # Fit the data to the visualizer\n",
    "visualizer.show()        # Finalize and render the figure"
   ]
  },
  {
   "cell_type": "markdown",
   "id": "97138700",
   "metadata": {},
   "source": [
    "\n",
    "\n",
    "* Using the Silhouette Score for K means shows that the best kmean is 2 and our score is 0.779."
   ]
  },
  {
   "cell_type": "code",
   "execution_count": null,
   "id": "60f3f387",
   "metadata": {},
   "outputs": [],
   "source": []
  }
 ],
 "metadata": {
  "kernelspec": {
   "display_name": "Python 3",
   "language": "python",
   "name": "python3"
  },
  "language_info": {
   "codemirror_mode": {
    "name": "ipython",
    "version": 3
   },
   "file_extension": ".py",
   "mimetype": "text/x-python",
   "name": "python",
   "nbconvert_exporter": "python",
   "pygments_lexer": "ipython3",
   "version": "3.8.8"
  }
 },
 "nbformat": 4,
 "nbformat_minor": 5
}
